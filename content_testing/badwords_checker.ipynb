{
 "cells": [
  {
   "cell_type": "markdown",
   "metadata": {},
   "source": [
    "# Welcome to SMS Badwords Checker"
   ]
  },
  {
   "cell_type": "code",
   "execution_count": 2,
   "metadata": {},
   "outputs": [],
   "source": [
    "# IMPORT DATA PACKAGE \n",
    "import pandas as pd \n",
    "import numpy as np\n",
    "import pygsheets \n",
    "import string"
   ]
  },
  {
   "cell_type": "code",
   "execution_count": 3,
   "metadata": {},
   "outputs": [
    {
     "name": "stderr",
     "output_type": "stream",
     "text": [
      "/opt/anaconda3/lib/python3.8/site-packages/pygsheets/worksheet.py:1477: UserWarning: At least one column name in the data frame is an empty string. If this is a concern, please specify include_tailing_empty=False and/or ensure that each column containing data has a name.\n",
      "  warnings.warn('At least one column name in the data frame is an empty string. If this is a concern, please specify include_tailing_empty=False and/or ensure that each column containing data has a name.')\n"
     ]
    }
   ],
   "source": [
    "# IMPORT DATA\n",
    "gc = pygsheets.authorize(service_account_file=\"cobra-reader2-a20820469446.json\")\n",
    "lanina_url = gc.open_by_url('https://docs.google.com/spreadsheets/d/1obszkCQoE0ELOR1O0CrLVETUEmEIWlGuyAmK3FgWSJg/edit#gid=1060654066')\n",
    "lanina_sheet =  lanina_url.worksheet('title','La Nina (Current)')\n",
    "lanina = lanina_sheet.get_as_df()\n",
    "badwords = gc.open_by_url('https://docs.google.com/spreadsheets/d/13AlQzsLpuUphMALUEgmlze2vu1oh4Fvv-4wFS1lu18I/edit#gid=0') \n",
    "badwords_df  = badwords[0].get_as_df()"
   ]
  },
  {
   "cell_type": "code",
   "execution_count": 61,
   "metadata": {},
   "outputs": [],
   "source": [
    "financial_badwords = badwords_df['All SC Badwords'].tolist() + badwords_df['[ BRAND TERMS ]'].tolist() + badwords_df['[ PROFANITY ]'].tolist() + badwords_df['[ DRUG TERMS ]'].tolist()\n",
    "non_fiancial_badwords = financial_badwords + badwords_df['Non-Financial SC Badwords'].tolist()\n",
    "# remove '' from list \n",
    "non_fiancial_badwords = [str(x).lower() for x in non_fiancial_badwords if x != '']\n",
    "financial_badwords = [str(x).lower() for x in financial_badwords if x != '']\n",
    "\n",
    "# single offer check \n",
    "def check_single_content(content,sc):\n",
    "    \"\"\" \n",
    "    Checks for badwords in the content of the ad. \n",
    "    Returns a dataframe with the badword and the number of times it appears in the ad. \n",
    "    \"\"\"\n",
    "    global Non_financial_sc\n",
    "    global Financial_sc\n",
    "    badwords = ''\n",
    "    badwords_lyst = []\n",
    "    Non_financial_sc = [str(x).lower() for x in Non_financial_sc if x != '']\n",
    "    Financial_sc = [str(x).lower() for x in Financial_sc if x != '']\n",
    "\n",
    "    if sc.lower() in Non_financial_sc:\n",
    "        badwords = non_fiancial_badwords\n",
    "    if sc.lower()  in Financial_sc:\n",
    "        badwords = financial_badwords\n",
    "    # check whether the content contains any badwords \n",
    "    shortcode = Non_financial_sc + Financial_sc\n",
    "    shortcode = [str(x).lower() for x in shortcode if x != '']\n",
    "    \n",
    "    if content[0].lower() not in shortcode:\n",
    "        return 'No shortcode found' \n",
    "    for i in content: \n",
    "        if str(i) in badwords:\n",
    "            badwords_lyst.append(i)\n",
    "    if len(badwords_lyst) > 0:\n",
    "        return ','.join(badwords_lyst)\n",
    "    else:\n",
    "        return ''\n",
    "\n",
    "\n",
    "def replace_punctuation(s):\n",
    "    translator = str.maketrans('', '', string.punctuation)\n",
    "    return s.translate(translator)\n",
    "\n",
    "def check_content_final(content):\n",
    "    content = content.lower() \n",
    "    sc = content[:3] \n",
    "    content = replace_punctuation(content).split(' ')\n",
    "    result = check_single_content(content,sc)\n",
    "\n",
    "    if result == 'No shortcode found':\n",
    "        print(\"No Shortcode found. Please check your shortcode.\") \n",
    "    elif result != '':\n",
    "        print(\"We find badwords:\",result)\n",
    "    else:\n",
    "        print(\"We don't find any badwords. You're good to go!\")"
   ]
  },
  {
   "cell_type": "markdown",
   "metadata": {},
   "source": [
    "# FOR SMS DMA TEAM"
   ]
  },
  {
   "cell_type": "code",
   "execution_count": 62,
   "metadata": {},
   "outputs": [
    {
     "data": {
      "text/html": [
       "<div>\n",
       "<style scoped>\n",
       "    .dataframe tbody tr th:only-of-type {\n",
       "        vertical-align: middle;\n",
       "    }\n",
       "\n",
       "    .dataframe tbody tr th {\n",
       "        vertical-align: top;\n",
       "    }\n",
       "\n",
       "    .dataframe thead th {\n",
       "        text-align: right;\n",
       "    }\n",
       "</style>\n",
       "<table border=\"1\" class=\"dataframe\">\n",
       "  <thead>\n",
       "    <tr style=\"text-align: right;\">\n",
       "      <th></th>\n",
       "      <th>Reporting Content ID</th>\n",
       "      <th>Content Approval Status</th>\n",
       "      <th>Type</th>\n",
       "      <th>badwords</th>\n",
       "      <th>Content</th>\n",
       "    </tr>\n",
       "  </thead>\n",
       "  <tbody>\n",
       "    <tr>\n",
       "      <th>561</th>\n",
       "      <td>EE.12231.SC.FLC.451401</td>\n",
       "      <td>Approved - Pipeline Testing</td>\n",
       "      <td>FLC</td>\n",
       "      <td>guaranteed</td>\n",
       "      <td>FLC: You received a card offer. For guaranteed...</td>\n",
       "    </tr>\n",
       "    <tr>\n",
       "      <th>562</th>\n",
       "      <td>EE.12231.SC.MBC.451401</td>\n",
       "      <td>Approved - Pipeline Testing</td>\n",
       "      <td>MBC</td>\n",
       "      <td>guaranteed</td>\n",
       "      <td>MBC: Congrats! You have guaranteed approval fo...</td>\n",
       "    </tr>\n",
       "    <tr>\n",
       "      <th>600</th>\n",
       "      <td>CGC.11646.SC.HZB.451492</td>\n",
       "      <td>Approved - Passed</td>\n",
       "      <td>HZB</td>\n",
       "      <td>guaranteed</td>\n",
       "      <td>HZB: You have guaranteed approval! View your n...</td>\n",
       "    </tr>\n",
       "    <tr>\n",
       "      <th>601</th>\n",
       "      <td>CGC.11646.SC.MBC.451491</td>\n",
       "      <td>Approved - Passed</td>\n",
       "      <td>MBC</td>\n",
       "      <td>guaranteed</td>\n",
       "      <td>MBC: Guaranteed approval? See your new card te...</td>\n",
       "    </tr>\n",
       "    <tr>\n",
       "      <th>761</th>\n",
       "      <td>CGC.11646.SC.FLC.451631</td>\n",
       "      <td>Approved - Passed</td>\n",
       "      <td>FLC</td>\n",
       "      <td>guaranteed</td>\n",
       "      <td>FLC: You received a $1,000 card offer. The twi...</td>\n",
       "    </tr>\n",
       "    <tr>\n",
       "      <th>764</th>\n",
       "      <td>CGC.11646.SC.HZB.451632</td>\n",
       "      <td>Approved - Passed</td>\n",
       "      <td>HZB</td>\n",
       "      <td>guaranteed</td>\n",
       "      <td>HZB: You’ve earned it! View your guaranteed Go...</td>\n",
       "    </tr>\n",
       "    <tr>\n",
       "      <th>766</th>\n",
       "      <td>CGC.11646.SC.MBC.451632</td>\n",
       "      <td>Approved - Passed</td>\n",
       "      <td>MBC</td>\n",
       "      <td>guaranteed</td>\n",
       "      <td>MBC: You received (1) new card offer to your i...</td>\n",
       "    </tr>\n",
       "    <tr>\n",
       "      <th>899</th>\n",
       "      <td>SLF.12145.SC.HZB.451811</td>\n",
       "      <td>Pending - Content Split Testing</td>\n",
       "      <td>HZB</td>\n",
       "      <td>earnings</td>\n",
       "      <td>HZB: If you’re a {{coalesce|region|US}} reside...</td>\n",
       "    </tr>\n",
       "    <tr>\n",
       "      <th>1073</th>\n",
       "      <td>VAST.6322.SC.HZB.451972</td>\n",
       "      <td>Approved - Content Split Testing</td>\n",
       "      <td>HZB</td>\n",
       "      <td>guaranteed</td>\n",
       "      <td>HZB: Reward yourself with the benefits of a ne...</td>\n",
       "    </tr>\n",
       "    <tr>\n",
       "      <th>1074</th>\n",
       "      <td>VAST.6322.SC.MBC.451971</td>\n",
       "      <td>Approved - Content Split Testing</td>\n",
       "      <td>MBC</td>\n",
       "      <td>guaranteed</td>\n",
       "      <td>MBC: This platinum card offer comes with guara...</td>\n",
       "    </tr>\n",
       "    <tr>\n",
       "      <th>1075</th>\n",
       "      <td>VAST.6322.SC.MBC.451972</td>\n",
       "      <td>Approved - Content Split Testing</td>\n",
       "      <td>MBC</td>\n",
       "      <td>guaranteed</td>\n",
       "      <td>MBC: Your {{today_mm_dd_yy}} card offer includ...</td>\n",
       "    </tr>\n",
       "  </tbody>\n",
       "</table>\n",
       "</div>"
      ],
      "text/plain": [
       "         Reporting Content ID           Content Approval Status Type  \\\n",
       "561    EE.12231.SC.FLC.451401       Approved - Pipeline Testing  FLC   \n",
       "562    EE.12231.SC.MBC.451401       Approved - Pipeline Testing  MBC   \n",
       "600   CGC.11646.SC.HZB.451492                 Approved - Passed  HZB   \n",
       "601   CGC.11646.SC.MBC.451491                 Approved - Passed  MBC   \n",
       "761   CGC.11646.SC.FLC.451631                 Approved - Passed  FLC   \n",
       "764   CGC.11646.SC.HZB.451632                 Approved - Passed  HZB   \n",
       "766   CGC.11646.SC.MBC.451632                 Approved - Passed  MBC   \n",
       "899   SLF.12145.SC.HZB.451811   Pending - Content Split Testing  HZB   \n",
       "1073  VAST.6322.SC.HZB.451972  Approved - Content Split Testing  HZB   \n",
       "1074  VAST.6322.SC.MBC.451971  Approved - Content Split Testing  MBC   \n",
       "1075  VAST.6322.SC.MBC.451972  Approved - Content Split Testing  MBC   \n",
       "\n",
       "        badwords                                            Content  \n",
       "561   guaranteed  FLC: You received a card offer. For guaranteed...  \n",
       "562   guaranteed  MBC: Congrats! You have guaranteed approval fo...  \n",
       "600   guaranteed  HZB: You have guaranteed approval! View your n...  \n",
       "601   guaranteed  MBC: Guaranteed approval? See your new card te...  \n",
       "761   guaranteed  FLC: You received a $1,000 card offer. The twi...  \n",
       "764   guaranteed  HZB: You’ve earned it! View your guaranteed Go...  \n",
       "766   guaranteed  MBC: You received (1) new card offer to your i...  \n",
       "899     earnings  HZB: If you’re a {{coalesce|region|US}} reside...  \n",
       "1073  guaranteed  HZB: Reward yourself with the benefits of a ne...  \n",
       "1074  guaranteed  MBC: This platinum card offer comes with guara...  \n",
       "1075  guaranteed  MBC: Your {{today_mm_dd_yy}} card offer includ...  "
      ]
     },
     "execution_count": 62,
     "metadata": {},
     "output_type": "execute_result"
    }
   ],
   "source": [
    "# check all the content from Lanina \n",
    "Financial_sc = ['FLC','DSS','SVT']\n",
    "Non_financial_sc = ['MBC','HZB','UAA']\n",
    "lanina['Content_words'] = lanina['Content'].str.lower().str.replace('[,.;@#?!&${}:]+','',regex= True).str.split(' ')\n",
    "lanina = lanina[(lanina['Reporting Content ID'].isna() == False) & (lanina['Reporting Content ID']!='')]\n",
    "lanina['badwords'] = lanina.apply(lambda row: check_single_content(row['Content_words'],row['Type']),axis=1)\n",
    "Badwords_df = lanina.loc[(lanina['badwords'] != '') & (~lanina['Content Approval Status'].str.contains('Paused|Not Approved|Failed Testing', na = False)),['Reporting Content ID','Content Approval Status','Type','badwords','Content']]\n",
    "Badwords_df"
   ]
  },
  {
   "cell_type": "markdown",
   "metadata": {},
   "source": [
    "# For Content Team:"
   ]
  },
  {
   "cell_type": "code",
   "execution_count": 70,
   "metadata": {},
   "outputs": [
    {
     "name": "stdout",
     "output_type": "stream",
     "text": [
      "We find badwords: guaranteed,40k\n"
     ]
    }
   ],
   "source": [
    "# enter content and the sc \n",
    "Financial_sc = ['FLC','DSS','SVT']\n",
    "Non_financial_sc = ['MBC','HZB','UAA']\n",
    "content = \"MBC: It’s guaranteed to pick a lender for your e-deposit request, {{coalesce|First_name|partner}}!Request up to $40k: {{offer_target_url}}STOP to end\"\n",
    "check_content_final(content)\n",
    "\n"
   ]
  },
  {
   "cell_type": "code",
   "execution_count": null,
   "metadata": {},
   "outputs": [],
   "source": []
  }
 ],
 "metadata": {
  "kernelspec": {
   "display_name": "Python 3",
   "language": "python",
   "name": "python3"
  },
  "language_info": {
   "codemirror_mode": {
    "name": "ipython",
    "version": 3
   },
   "file_extension": ".py",
   "mimetype": "text/x-python",
   "name": "python",
   "nbconvert_exporter": "python",
   "pygments_lexer": "ipython3",
   "version": "3.8.17"
  },
  "orig_nbformat": 4
 },
 "nbformat": 4,
 "nbformat_minor": 2
}
