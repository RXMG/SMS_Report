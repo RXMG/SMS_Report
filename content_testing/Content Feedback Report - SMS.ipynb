{
 "cells": [
  {
   "cell_type": "code",
   "execution_count": null,
   "id": "45ea257c",
   "metadata": {},
   "outputs": [],
   "source": [
    "from gsheets import Sheets\n",
    "import pandas as pd\n",
    "import numpy as np\n",
    "import datetime as dt\n",
    "import time\n",
    "# import filepaths\n",
    "# import content_feedback_report\n",
    "# import schedule_methods\n",
    "# import lexi_cobra_sync\n",
    "import pygsheets\n",
    "import pandas as pd\n",
    "import numpy as np\n",
    "import datetime as dt\n",
    "import time\n",
    "# import schedule_methods\n",
    "import math\n",
    "import datetime\n",
    "from datetime import timedelta  \n",
    "import emoji\n",
    "import re\n",
    "import warnings\n",
    "import statistics\n",
    "from datetime import date\n",
    "import matplotlib.pyplot as plt\n",
    "import seaborn as sns\n",
    "import infrastructure \n",
    "from calendar import monthrange\n",
    "from dateutil.relativedelta import relativedelta\n",
    "import xlsxwriter\n",
    "import send_email\n",
    "from colorama import Fore, Style\n",
    "import filepath"
   ]
  },
  {
   "cell_type": "markdown",
   "id": "122abe9f",
   "metadata": {},
   "source": [
    "### Load in Cobra SMS and Lexi SMS"
   ]
  },
  {
   "cell_type": "code",
   "execution_count": null,
   "id": "20d38a8c",
   "metadata": {},
   "outputs": [],
   "source": [
    "#Use Infrastructure.py that Lili has written\n",
    "mamba = infrastructure.get_mamba()\n",
    "lexi_sms = pd.read_csv(filepath.input_folder + 'SS_LC_merged_data.csv')"
   ]
  },
  {
   "cell_type": "code",
   "execution_count": null,
   "id": "ecbd1e46",
   "metadata": {},
   "outputs": [],
   "source": [
    "lexi_sms = infrastructure.transform_sms_df(lexi_sms)\n",
    "lexi_sms[['Hitpath Offer ID']] = lexi_sms[['Hitpath Offer ID']].apply(pd.to_numeric, errors='coerce')\n",
    "lexi_sms.dropna(subset=['Hitpath Offer ID'], inplace = True)"
   ]
  },
  {
   "cell_type": "markdown",
   "id": "737076f7",
   "metadata": {},
   "source": [
    "### Load in SMS Content Warehouse (El Nino) and Content Testing Submissions Smartsheet"
   ]
  },
  {
   "cell_type": "code",
   "execution_count": null,
   "id": "89c746bb",
   "metadata": {},
   "outputs": [],
   "source": [
    "ct =infrastructure.get_smartsheet('content_sms')\n",
    "\n",
    "# Create a new function in scheduling methods\n",
    "#Use this link: https://docs.google.com/spreadsheets/d/1obszkCQoE0ELOR1O0CrLVETUEmEIWlGuyAmK3FgWSJg/edit#gid=1099746391\n",
    "\n",
    "cw = infrastructure.get_lanina()\n",
    "cw.dropna(subset=['Reporting Content ID'],inplace=True)\n",
    "cw[['OfferIDs']] = cw[['OfferIDs']].apply(pd.to_numeric, errors='coerce')\n",
    "cw.dropna(subset=['OfferIDs'], inplace = True)"
   ]
  },
  {
   "cell_type": "code",
   "execution_count": null,
   "id": "f73ea623",
   "metadata": {},
   "outputs": [],
   "source": [
    "mask = cw['Type (Pitch)'] == 'HOL'\n",
    "cw = cw[~mask]"
   ]
  },
  {
   "cell_type": "code",
   "execution_count": null,
   "id": "7fbfc83a",
   "metadata": {},
   "outputs": [],
   "source": [
    "# cw.to_csv('checkcw.csv')"
   ]
  },
  {
   "cell_type": "markdown",
   "id": "27ca3893",
   "metadata": {},
   "source": [
    "### Load in Offers Smartsheet"
   ]
  },
  {
   "cell_type": "code",
   "execution_count": null,
   "id": "5a67862f",
   "metadata": {},
   "outputs": [],
   "source": [
    "offers = infrastructure.get_smartsheet('offers_sms')\n",
    "offers.rename(columns = {'Hitpath Offer ID':'Hitpath ID'}, inplace = True)\n",
    "offers.dropna(subset=['Hitpath ID'],inplace=True)\n",
    "offers['Hitpath ID'] = offers['Hitpath ID'].astype(int)"
   ]
  },
  {
   "cell_type": "code",
   "execution_count": null,
   "id": "d1d6a0da",
   "metadata": {},
   "outputs": [],
   "source": [
    "cw['Allocation Period (Date Added)'] = pd.to_datetime(cw['Allocation Period (Date Added)'], format='mixed')\n",
    "#cw = cw[~(cw['Content ID'].str.contains('HTML'))]\n",
    "cw.dropna(subset=['Reporting Content ID'],inplace=True)"
   ]
  },
  {
   "cell_type": "code",
   "execution_count": null,
   "id": "0ac4ea8b",
   "metadata": {},
   "outputs": [],
   "source": [
    "ct['Submission Date'] = pd.to_datetime(ct['Submission Date'])\n",
    "ct.rename(columns = {'Date Added to La Nina (Akshad)':'Date Added to La Nina'}, inplace = True)\n",
    "ct['Date Added to La Nina'].replace(to_replace=r\"[a-zA-Z- ()]\", value=\"\", regex=True, inplace=True)\n",
    "ct['Date Added to La Nina'] = pd.to_datetime(ct['Date Added to La Nina'], errors='coerce')\n",
    "ct.rename(columns={\"Hitpath ID\": \"HitPath ID\"},inplace=True)"
   ]
  },
  {
   "cell_type": "code",
   "execution_count": null,
   "id": "a84196a5",
   "metadata": {},
   "outputs": [],
   "source": [
    "mamba['Affiliate ID']=mamba['Dataset'].str.split('_').str[2]\n",
    "mamba[['Limit','Offset']] = mamba[['Limit','Offset']].fillna(\"\")\n",
    "mamba['Drop Number'] = mamba['Drop'].str.split(expand=True)[1].astype(int)\n",
    "mamba['Day of Week'] = mamba['Date'].dt.dayofweek\n",
    "mamba.rename(columns={\"Segment \": \"Segment\"},inplace=True)"
   ]
  },
  {
   "cell_type": "code",
   "execution_count": null,
   "id": "44570dc0",
   "metadata": {
    "scrolled": true
   },
   "outputs": [],
   "source": [
    "lexi_sms['eCPM'] = lexi_sms['Revenue']*1000 / lexi_sms['Delivered']\n",
    "lexi_sms = lexi_sms[(lexi_sms['Date'].dt.date >= (date.today() + timedelta(days=-30)))]"
   ]
  },
  {
   "cell_type": "code",
   "execution_count": null,
   "id": "1b3fab52",
   "metadata": {},
   "outputs": [],
   "source": [
    "p_vert_ecpms = lexi_sms[lexi_sms['Send Strategy']=='P'].groupby(['Data Vertical','DP&Pub']).agg(Revenue=('Revenue',sum), Delivered=('Delivered',sum), Drops=('Hitpath Offer ID','count')).reset_index().rename(columns={'Drops':'Recent Dataset Vertical Drops'})\n",
    "p_vert_ecpms['Recent Dataset Vertical eCPM'] = p_vert_ecpms['Revenue']*1000 / p_vert_ecpms['Delivered']"
   ]
  },
  {
   "cell_type": "code",
   "execution_count": null,
   "id": "7c53a0ab",
   "metadata": {},
   "outputs": [],
   "source": [
    "lexi_sms = pd.merge(lexi_sms, p_vert_ecpms[['Data Vertical','DP&Pub','Recent Dataset Vertical eCPM','Recent Dataset Vertical Drops']], how='left', left_on=['Data Vertical','DP&Pub'], right_on=['Data Vertical','DP&Pub'])\n",
    "\n",
    "p_ecpms = lexi_sms[lexi_sms['Send Strategy']=='P'].groupby(['DP&Pub']).agg(Revenue=('Revenue',sum), Delivered=('Delivered',sum)).reset_index()\n",
    "p_ecpms['Recent Dataset P eCPM'] = p_ecpms['Revenue']*1000 / p_ecpms['Delivered']\n",
    "lexi_sms = pd.merge(lexi_sms, p_ecpms[['DP&Pub','Recent Dataset P eCPM']], how='left', left_on=['DP&Pub'], right_on=['DP&Pub'])"
   ]
  },
  {
   "cell_type": "code",
   "execution_count": null,
   "id": "6105e9f9",
   "metadata": {},
   "outputs": [],
   "source": [
    "ccid_tests = lexi_sms[(lexi_sms['Send Strategy'].isin(['CT','PT','OT']))]"
   ]
  },
  {
   "cell_type": "code",
   "execution_count": null,
   "id": "1222bc13",
   "metadata": {},
   "outputs": [],
   "source": [
    "def recent_pass(row):\n",
    "        if row['Recent Dataset Vertical Drops'] > 3:\n",
    "            if row['eCPM'] > row['Recent Dataset Vertical eCPM']:\n",
    "                return True\n",
    "            else:\n",
    "                return False\n",
    "        else:\n",
    "            if row['eCPM'] > row['Recent Dataset P eCPM']: \n",
    "                return True\n",
    "            else:\n",
    "                return False"
   ]
  },
  {
   "cell_type": "code",
   "execution_count": null,
   "id": "27ba50f3",
   "metadata": {},
   "outputs": [],
   "source": [
    "ccid_tests['Pass'] = ccid_tests[['eCPM','Recent Dataset Vertical eCPM','Recent Dataset Vertical Drops','Recent Dataset P eCPM']].apply(lambda x: recent_pass(x), axis=1)\n",
    "# ccid_tests.to_csv('ccidtestsauditupdated.csv')"
   ]
  },
  {
   "cell_type": "code",
   "execution_count": null,
   "id": "f4a883c4",
   "metadata": {},
   "outputs": [],
   "source": [
    "ccid_tests"
   ]
  },
  {
   "cell_type": "code",
   "execution_count": null,
   "id": "f16f4cbb",
   "metadata": {},
   "outputs": [],
   "source": [
    "#missing opportunity cost\n",
    "#test dates replaced with date\n",
    "ccid_tests['Data Vertical'].fillna('Error Finding Vertical', inplace=True)\n",
    "ccid_tests['Hitpath Offer ID'] = ccid_tests['Hitpath Offer ID'].astype(\"Int64\")\n",
    "ccid_tests_g = ccid_tests.groupby(['Creative Type'], as_index=False).agg(\n",
    "        Revenue = ('Revenue',sum),\n",
    "        Delivered = ('Delivered',sum),\n",
    "        Clicks = ('Clicks',sum),\n",
    "        #Opportunity_Cost = ('Opportunity Cost',sum),\n",
    "        Vertical = ('Data Vertical', lambda x: x.value_counts().index[0]),\n",
    "        Pass = ('Pass', sum),\n",
    "        Test_Dates = ('Date', list ),\n",
    "        HitPath = ('Hitpath Offer ID', lambda x: x.value_counts().index[0])\n",
    ").set_index('HitPath').sort_index()\n",
    "ccid_tests_g.index.rename('HitPath ID',inplace=True)\n",
    "ccid_tests_g"
   ]
  },
  {
   "cell_type": "code",
   "execution_count": null,
   "id": "b4b5b696",
   "metadata": {},
   "outputs": [],
   "source": [
    "#no opportunity cost\n",
    "ccid_tests_g['Test Dates'] = ccid_tests_g['Test_Dates'].apply(lambda x: str([d.strftime(\"%D\") for d in x])[1:-1].replace(\"'\",'') )\n",
    "ccid_tests_g['eCPM'] = ccid_tests_g['Revenue']*1000 / ccid_tests_g['Delivered']\n",
    "ccid_tests_g['CTR'] = ccid_tests_g['Clicks'] / ccid_tests_g['Delivered']\n",
    "ccid_tests_g['Passed Testing'] = ccid_tests_g['Pass'].apply(lambda x: True if x>0 else False)\n",
    "ccid_tests_g.rename(columns={'Creative Type':'CC ID',\n",
    "                                 'eCPM':'eCPM from All Tests',\n",
    "                                 'CTR':'CTR from All Tests',\n",
    "                                 #'Opportunity_Cost':'Opportunity Cost from All Tests',\n",
    "                                 'Revenue':'Revenue from All Tests',\n",
    "                                 'Delivered':'Delivered from All Tests'},\n",
    "                        inplace=True)\n",
    "ccid_tests_g = ccid_tests_g[['CC ID','Test Dates','eCPM from All Tests','CTR from All Tests',#'Opportunity Cost from All Tests',\n",
    "                   'Revenue from All Tests','Delivered from All Tests','Passed Testing']]\n",
    "ccid_tests_g = ccid_tests_g[ccid_tests_g['CC ID']!='HTML']\n",
    "passed_ids = ccid_tests_g[ccid_tests_g['Passed Testing']==True].drop(columns='Passed Testing')\n",
    "failed_ids = ccid_tests_g[ccid_tests_g['Passed Testing']==False].drop(columns='Passed Testing')\n",
    "passed_ids['Test Dates'] = passed_ids['Test Dates'].str.replace(',',\"\\n\").str.replace(\" \",\"\")\n",
    "failed_ids['Test Dates'] = failed_ids['Test Dates'].str.replace(',',\"\\n\").str.replace(\" \",\"\")"
   ]
  },
  {
   "cell_type": "code",
   "execution_count": null,
   "id": "36085d33",
   "metadata": {},
   "outputs": [],
   "source": [
    "def parse_pieces(row):\n",
    "    if row is np.nan:\n",
    "        return row\n",
    "    else:\n",
    "        try:\n",
    "            return int(row)\n",
    "        except:\n",
    "            row = re.sub(\"[a-zA-Z &,!.]\", \"\", row)\n",
    "            row = row.split('-')[-1]\n",
    "            if (len(row) <=2) & (len(row) > 0):\n",
    "                return int(row)\n",
    "            else:\n",
    "                return np.nan "
   ]
  },
  {
   "cell_type": "code",
   "execution_count": null,
   "id": "ca17e2a5",
   "metadata": {},
   "outputs": [],
   "source": [
    "ct[['HitPath ID']] = ct[['HitPath ID']].apply(pd.to_numeric, errors='coerce')\n",
    "ct['HitPath ID'] = ct['HitPath ID'].astype(\"Int64\")\n",
    "ct.dropna(subset=['HitPath ID'], inplace = True)\n",
    "requested_month_df = ct[ct['Submission Date'].dt.date >= (date.today() + timedelta(days=-30))]\n",
    "\n",
    "approved_month_df = cw[cw['Allocation Period (Date Added)'].dt.date >= (date.today() + timedelta(days=-30))]\n",
    "\n",
    "requested_month_df['HitPath ID'] = requested_month_df['HitPath ID'].astype(\"Int64\")\n",
    "\n",
    "requested_month_df['Number of Pieces Requested Per Shortcode'] = requested_month_df['# of Pieces Requested Per Shortcode'].apply(lambda x: parse_pieces(x) )\n",
    "requested_pieces = requested_month_df.groupby('HitPath ID').agg({'Number of Pieces Requested Per Shortcode':'sum'}  ) \n",
    "\n",
    "approved_month_df['OfferIDs'] = approved_month_df['OfferIDs'].astype(\"Int64\")\n",
    "approved_month_df = approved_month_df.explode('OfferIDs') \n",
    "approved_month_df.rename(columns={\"OfferIDs\": \"HitPath ID\"},inplace=True)\n",
    "approved_pieces = approved_month_df.groupby('HitPath ID').agg({'Reporting Content ID':'nunique'}) \n",
    "approved_pieces.rename(columns={\"Reporting Content ID\": \"Number of Pieces Approved\"},inplace=True)\n",
    "  \n",
    "pieces_in_testing_df = lexi_sms[(lexi_sms['Date'].dt.date >= (date.today() + timedelta(days=-30))) & (lexi_sms['Send Strategy']=='CT')]\n",
    "#no creative type available\n",
    "pieces_in_testing_df['HitPath ID'] = pieces_in_testing_df['Hitpath Offer ID']\n",
    "pieces_in_testing_df['HitPath ID'] = pieces_in_testing_df['HitPath ID'].astype(\"Int64\")\n",
    "pieces_in_testing_df = pieces_in_testing_df.explode('HitPath ID') \n",
    "pieces_in_testing = pieces_in_testing_df.groupby('HitPath ID').agg({'Creative Type':'nunique'})\n",
    "pieces_in_testing.rename(columns={\"Creative Type\": \"Number of Pieces Tested\"},inplace=True) \n",
    "\n",
    "passed_testing_pieces = passed_ids.groupby('HitPath ID').agg({'CC ID':'nunique'})\n",
    "passed_testing_pieces.rename(columns={\"CC ID\": \"Number of Pieces Passed Testing\"},inplace=True)  \n",
    "\n",
    "failed_testing_pieces = failed_ids.groupby('HitPath ID').agg({'CC ID':'nunique'})\n",
    "failed_testing_pieces.rename(columns={\"CC ID\": \"Number of Pieces Failed Testing\"},inplace=True) \n",
    "\n",
    "content_ids = approved_month_df.groupby('HitPath ID').agg({'Reporting Content ID': lambda x: '\\n'.join(x)})\n",
    "content_ids.rename(columns={\"Reporting Content ID\": \"Approved Content IDs\"},inplace=True) \n",
    "\n",
    "rolling_thirty = pd.concat([content_ids, approved_pieces, pieces_in_testing, requested_pieces, passed_testing_pieces, failed_testing_pieces], axis=1, join = 'outer')\n",
    "rolling_thirty['Percent of Pieces Passed'] = rolling_thirty['Number of Pieces Passed Testing'] / rolling_thirty['Number of Pieces Tested']\n",
    "\n",
    "smartsheet_offers = set(offers['Hitpath ID'])\n",
    "rolling_offers = set(rolling_thirty.index)\n",
    "invalid_offers_rolling = list(rolling_offers.difference(smartsheet_offers))\n",
    "rolling_thirty.drop(invalid_offers_rolling, inplace=True)"
   ]
  },
  {
   "cell_type": "code",
   "execution_count": null,
   "id": "0607fa16",
   "metadata": {},
   "outputs": [],
   "source": [
    "#remove content id, merge numeric values, groupby pieces approved/tested"
   ]
  },
  {
   "cell_type": "code",
   "execution_count": null,
   "id": "b1a7eedb",
   "metadata": {},
   "outputs": [],
   "source": [
    "# rolling_thirty.to_csv('checkrollingthirty.csv')"
   ]
  },
  {
   "cell_type": "code",
   "execution_count": null,
   "id": "997a21dd",
   "metadata": {},
   "outputs": [],
   "source": [
    "rolling_cw_df = cw[(cw['Allocation Period (Date Added)'].dt.date >= (date.today() + timedelta(days=-30)))] #&(cw['Content Approval Status'].isin(['Approved - Passed']))]\n",
    "rolling_cw_df = rolling_cw_df.explode('OfferIDs') \n",
    "rolling_cw_df.rename(columns={\"OfferIDs\": \"HitPath ID\"},inplace=True)\n",
    "rolling_cw_df.rename(columns={\"Type\": \"Shortcode\"},inplace=True)"
   ]
  },
  {
   "cell_type": "code",
   "execution_count": null,
   "id": "a80dbe5b",
   "metadata": {},
   "outputs": [],
   "source": [
    "lexi_sms['Hitpath Offer ID'] = lexi_sms['Hitpath Offer ID'].astype(int)"
   ]
  },
  {
   "cell_type": "code",
   "execution_count": null,
   "id": "3360c273",
   "metadata": {},
   "outputs": [],
   "source": [
    "#no body content in schedule\n",
    "def not_seen(cc_id):\n",
    "    upcoming_mamba = mamba[(mamba['Date'].dt.date>=date.today() ) & ((mamba['Creative'].str.contains(cc_id)))]\n",
    "    lexi_cc_id = lexi_sms[lexi_sms['Creative Type']==cc_id]\n",
    "    if (len(upcoming_mamba)==0) & (len(lexi_cc_id)==0):\n",
    "        return True\n",
    "    else:\n",
    "        return False"
   ]
  },
  {
   "cell_type": "code",
   "execution_count": null,
   "id": "1267a7d9",
   "metadata": {},
   "outputs": [],
   "source": [
    "# rolling_cw_df.to_csv('cwaudit.csv')"
   ]
  },
  {
   "cell_type": "code",
   "execution_count": null,
   "id": "9c4c9b02",
   "metadata": {},
   "outputs": [],
   "source": [
    "# rolling_cw_df = rolling_cw_df[~rolling_cw_df['Content Approval Status'].str.contains('Not')]\n",
    "rolling_cw_df = rolling_cw_df[rolling_cw_df['Content Approval Status'].str.contains('Live')]\n"
   ]
  },
  {
   "cell_type": "code",
   "execution_count": null,
   "id": "6963dcaa",
   "metadata": {},
   "outputs": [],
   "source": [
    "rolling_cw_df.drop(rolling_cw_df[rolling_cw_df['Reporting Content ID'].apply(lambda x: not_seen(x)==False)].index, inplace=True)\n",
    "awaiting_testing_pieces = rolling_cw_df.groupby(['HitPath ID','Shortcode'], as_index = False).agg({'Reporting Content ID':'nunique', 'Reporting Content ID':lambda x: '\\n'.join(x),'Allocation Period (Date Added)':'max',})\n",
    "awaiting_testing_pieces.rename(columns={\"Reporting Content ID\": \"Number of Pieces Awaiting Testing\"},inplace=True)\n",
    "\n",
    "a = rolling_cw_df.groupby(['HitPath ID','Shortcode'], as_index = False).agg({'Reporting Content ID': 'nunique'})\n",
    "a.rename(columns={\"Reporting Content ID\": \"Number of Pieces Awaiting Testing\"},inplace=True)\n",
    "b = rolling_cw_df.groupby(['HitPath ID','Shortcode'], as_index = False).agg({'Allocation Period (Date Added)':'max','Reporting Content ID': lambda x: '\\n'.join(x)})\n",
    "b.rename(columns={\"Reporting Content ID\": \"Content ID's\"},inplace=True)\n",
    "\n",
    "awaiting_testing_pieces = pd.merge(a, b, on =['HitPath ID','Shortcode'])\n",
    "awaiting_testing_pieces = awaiting_testing_pieces.set_index('HitPath ID')"
   ]
  },
  {
   "cell_type": "code",
   "execution_count": null,
   "id": "f9b3ac90",
   "metadata": {},
   "outputs": [],
   "source": [
    "# lexi_sms.to_csv('checkrev.csv')"
   ]
  },
  {
   "cell_type": "code",
   "execution_count": null,
   "id": "cc4e1017",
   "metadata": {},
   "outputs": [],
   "source": [
    "#no CPM or Operational Status\n",
    "\n",
    "def find_new_hitpaths_to_highlight(df):\n",
    "    dfc = df.copy()\n",
    "    dfc.reset_index(inplace=True)\n",
    "    indices = []\n",
    "    for index, row in dfc.iterrows():\n",
    "        hit = int(row['HitPath ID'])\n",
    "        if len(lexi_sms[lexi_sms['Hitpath Offer ID']==hit]) == 0:\n",
    "            indices.append(index+2)\n",
    "    return indices\n",
    "\n",
    "#find out the dataframe that meets this condition,applies specific color to that index that meets the criteria\n",
    "#def find_cpm_to_highlight(df): #could combine with previous function to make slightly faster\n",
    "    #dfc = df.copy()\n",
    "    #dfc.reset_index(inplace=True)\n",
    "    #indices = []\n",
    "    #for index, row in dfc.iterrows():\n",
    "       # if ('CPM' in row['Status']) or ('Only' in row['Status']):\n",
    "             #   indices.append(index+2)\n",
    "      #  return indices\n",
    "        \n",
    "def get_30_day_rev(hit):\n",
    "    return lexi_sms[(lexi_sms['Date']>=lexi_sms['Date'].max()+timedelta(days=-30)) &(lexi_sms['Hitpath Offer ID']==int(hit))]['Revenue'].sum()"
   ]
  },
  {
   "cell_type": "code",
   "execution_count": null,
   "id": "b835ca98",
   "metadata": {},
   "outputs": [],
   "source": [
    "awaiting_testing_pieces['AM'] = awaiting_testing_pieces.index.to_series().apply(lambda x: offers[offers['Hitpath ID']==int(x)]['RX Rep'].values[0] if len(offers[offers['Hitpath ID']==int(x)])>=1 else '')\n",
    "awaiting_testing_pieces['Offer Name'] = awaiting_testing_pieces.index.to_series().apply(lambda x: offers[offers['Hitpath ID']==int(x)]['Offer Name'].values[0] if len(offers[offers['Hitpath ID']==int(x)])>=1 else '')\n",
    "awaiting_testing_pieces['Advertiser'] = awaiting_testing_pieces.index.to_series().apply(lambda x: offers[offers['Hitpath ID']==int(x)]['Advertiser'].values[0] if len(offers[offers['Hitpath ID']==int(x)])>=1 else '')\n",
    "#awaiting_testing_pieces['Status Change Date'] = awaiting_testing_pieces.index.to_series().apply(lambda x: offers[offers['Hitpath ID']==int(x)]['Status Change Date'].values[0] if len(offers[offers['Hitpath ID']==int(x)])>=1 else '')\n",
    "\n",
    "#add shortcode to awaiting_testing pieces\n",
    "\n",
    "awaiting_testing_pieces['30 Day Revenue'] = awaiting_testing_pieces.index.to_series().apply(get_30_day_rev)\n",
    "awaiting_testing_pieces.sort_values(by='30 Day Revenue',ascending=False,inplace=True)\n",
    "\n",
    "awaiting_testing_pieces['Status'] = awaiting_testing_pieces.index.to_series().apply(lambda x: offers[offers['Hitpath ID']==int(x)]['Status'].values[0] if len(offers[offers['Hitpath ID']==int(x)])>=1 else '')\n",
    "awaiting_testing_pieces = awaiting_testing_pieces[['Shortcode',\"Content ID's\",'Offer Name','AM','Advertiser','Number of Pieces Awaiting Testing', 'Allocation Period (Date Added)', '30 Day Revenue','Status']]\n",
    "\n",
    "#adjust based on sms\n",
    "#address na = true or false if error message\n",
    "awaiting_testing_pieces_paused=awaiting_testing_pieces[awaiting_testing_pieces['Status'].str.contains('Paused') | awaiting_testing_pieces['Status'].str.contains('Canceled')]\n",
    "awaiting_testing_pieces_testing=awaiting_testing_pieces[awaiting_testing_pieces['Status'].str.contains('In Testing') | awaiting_testing_pieces['Status'].str.contains('Retest')]\n",
    "awaiting_testing_pieces_live = awaiting_testing_pieces[awaiting_testing_pieces['Status'].str.contains('Live') | awaiting_testing_pieces['Status'].str.contains('Production')]\n",
    "#awaiting_testing_pieces_pending=awaiting_testing_pieces[awaiting_testing_pieces['Status'].str.contains('Pending')]\n",
    "#awaiting_testing_pieces_setup=awaiting_testing_pieces[awaiting_testing_pieces['Status'].str.contains('Set Up:')]\n",
    "\n",
    "#removed setup due to no setup copy\n",
    "awaiting_testing_new_hitpath_indices_live = find_new_hitpaths_to_highlight(awaiting_testing_pieces_live)\n",
    "awaiting_testing_new_hitpath_indices_testing = find_new_hitpaths_to_highlight(awaiting_testing_pieces_testing)\n",
    "awaiting_testing_new_hitpath_indices_paused = find_new_hitpaths_to_highlight(awaiting_testing_pieces_paused)\n",
    "#awaiting_testing_new_hitpath_indices_pending = find_new_hitpaths_to_highlight(awaiting_testing_pieces_pending)\n",
    "#awaiting_testing_new_hitpath_indices_setup = find_new_hitpaths_to_highlight(awaiting_testing_pieces_setup)\n",
    "\n",
    "#awaiting_testing_cpm_indices_paused = find_cpm_to_highlight(awaiting_testing_pieces_paused)\n",
    "#awaiting_testing_cpm_indices_testing = find_cpm_to_highlight(awaiting_testing_pieces_testing)\n",
    "#awaiting_testing_cpm_indices_live = find_cpm_to_highlight(awaiting_testing_pieces_live)\n",
    "#awaiting_testing_cpm_indices_cpm = find_cpm_to_highlight(awaiting_testing_pieces_cpm)\n",
    "#awaiting_testing_cpm_indices_setup = find_cpm_to_highlight(awaiting_testing_pieces_setup)\n",
    "\n",
    "    \n",
    "upcoming_ct = mamba[(mamba['Date'].dt.date>=date.today()) & (mamba['Send Strategy']=='CT')]\n",
    "\n",
    "upcoming_ct = upcoming_ct[['Offer','Creative','Date','Time','Dataset']]\n",
    "upcoming_ct['Creative'].replace('',np.nan, inplace=True)\n",
    "upcoming_ct.dropna(subset=['Offer','Creative'],inplace=True)\n",
    "upcoming_ct['HitPath ID'] = upcoming_ct['Offer'].apply(lambda x: x.split('-')[0])\n",
    "upcoming_ct.set_index('HitPath ID',inplace=True)\n",
    "upcoming_ct.drop(columns='Offer', inplace=True)\n",
    "upcoming_ct.rename(columns={\"Creative\": \"Content IDs\"},inplace=True)\n",
    "upcoming_ct.sort_index(inplace=True)"
   ]
  },
  {
   "cell_type": "code",
   "execution_count": null,
   "id": "f4376504",
   "metadata": {},
   "outputs": [],
   "source": [
    "#no creative type\n",
    "def cc_traffic(hit):\n",
    "    hit = int(hit)\n",
    "    last_90_hitpath = lexi_sms[(lexi_sms['Hitpath Offer ID']==hit) & (lexi_sms['Date'].dt.date >= (date.today() + timedelta(days=-90))  )]\n",
    "    last_90_hitpath_cc = last_90_hitpath[last_90_hitpath['Creative Type']!='HTML']\n",
    "    if len(last_90_hitpath) != 0:\n",
    "        return 100*len(last_90_hitpath_cc) / len(last_90_hitpath)\n",
    "    else:\n",
    "        return np.nan\n",
    "\n",
    "#no creative types\n",
    "#rolling_thirty['Custom Content Traffic Percent'] = rolling_thirty.index.to_series().apply(lambda x: cc_traffic(x))\n",
    "rolling_thirty.index.rename('HitPath ID',inplace=True)\n",
    "\n",
    "def highlight_first_cc(df):\n",
    "    dfc = df.copy()\n",
    "    dfc.reset_index(inplace=True)\n",
    "    indices = []\n",
    "    for index, row in dfc.iterrows():\n",
    "            \n",
    "        hit = int(row['HitPath ID'])\n",
    "        if len(lexi_sms[(lexi_sms['Hitpath Offer ID']==hit)])==0:\n",
    "            indices.append(index+2)\n",
    "    return indices"
   ]
  },
  {
   "cell_type": "code",
   "execution_count": null,
   "id": "1b098206",
   "metadata": {},
   "outputs": [],
   "source": [
    "rolling_thirty_indices = highlight_first_cc(rolling_thirty)\n",
    "passed_indices = highlight_first_cc(passed_ids)\n",
    "    \n",
    "rolling_thirty['AM'] = rolling_thirty.index.to_series().apply(lambda x: offers[offers['Hitpath ID']==int(x)]['RX Rep'].values[0] if len(offers[offers['Hitpath ID']==int(x)])>=1 else '')\n",
    "rolling_thirty['Offer Name'] = rolling_thirty.index.to_series().apply(lambda x: offers[offers['Hitpath ID']==int(x)]['Offer Name'].values[0] if len(offers[offers['Hitpath ID']==int(x)])>=1 else '')\n",
    "rolling_thirty['Advertiser'] = rolling_thirty.index.to_series().apply(lambda x: offers[offers['Hitpath ID']==int(x)]['Advertiser'].values[0] if len(offers[offers['Hitpath ID']==int(x)])>=1 else '')\n",
    "\n",
    "passed_ids['AM'] = passed_ids.index.to_series().apply(lambda x: offers[offers['Hitpath ID']==int(x)]['RX Rep'].values[0] if len(offers[offers['Hitpath ID']==int(x)])>=1 else '')\n",
    "passed_ids['Offer Name'] = passed_ids.index.to_series().apply(lambda x: offers[offers['Hitpath ID']==int(x)]['Offer Name'].values[0] if len(offers[offers['Hitpath ID']==int(x)])>=1 else '')\n",
    "passed_ids['Advertiser'] = passed_ids.index.to_series().apply(lambda x: offers[offers['Hitpath ID']==int(x)]['Advertiser'].values[0] if len(offers[offers['Hitpath ID']==int(x)])>=1 else '')\n",
    "\n",
    "failed_ids['AM'] = failed_ids.index.to_series().apply(lambda x: offers[offers['Hitpath ID']==int(x)]['RX Rep'].values[0] if len(offers[offers['Hitpath ID']==int(x)])>=1 else '')\n",
    "failed_ids['Offer Name'] = failed_ids.index.to_series().apply(lambda x: offers[offers['Hitpath ID']==int(x)]['Offer Name'].values[0] if len(offers[offers['Hitpath ID']==int(x)])>=1 else '')\n",
    "failed_ids['Advertiser'] = failed_ids.index.to_series().apply(lambda x: offers[offers['Hitpath ID']==int(x)]['Advertiser'].values[0] if len(offers[offers['Hitpath ID']==int(x)])>=1 else '')\n",
    "\n",
    "upcoming_ct['AM'] = upcoming_ct.index.to_series().apply(lambda x: offers[offers['Hitpath ID']==int(x)]['RX Rep'].values[0] if len(offers[offers['Hitpath ID']==int(x)])>=1 else '')\n",
    "upcoming_ct['Offer Name'] = upcoming_ct.index.to_series().apply(lambda x: offers[offers['Hitpath ID']==int(x)]['Offer Name'].values[0] if len(offers[offers['Hitpath ID']==int(x)])>=1 else '')\n",
    "upcoming_ct['Advertiser'] = upcoming_ct.index.to_series().apply(lambda x: offers[offers['Hitpath ID']==int(x)]['Advertiser'].values[0] if len(offers[offers['Hitpath ID']==int(x)])>=1 else '')\n"
   ]
  },
  {
   "cell_type": "code",
   "execution_count": null,
   "id": "b599dd68",
   "metadata": {},
   "outputs": [],
   "source": [
    "def find_approval_date(ccid_list):\n",
    "    ccid_list = ccid_list.strip()\n",
    "    dates=[]\n",
    "    for ccid in ccid_list.split('\\n'):\n",
    "        ccid = ccid.strip()\n",
    "        ccid = ccid.replace('/','')\n",
    "        try:\n",
    "            dates.append((cw[cw['Reporting Content ID']==ccid]['Allocation Period (Date Added)'].values[0])) \n",
    "            return dates[0] #note this will return the date from the first ccid listed\n",
    "        except:\n",
    "            pass"
   ]
  },
  {
   "cell_type": "code",
   "execution_count": null,
   "id": "147f47be",
   "metadata": {},
   "outputs": [],
   "source": [
    "upcoming_ct['Approval Date'] = upcoming_ct['Content IDs'].apply(lambda x: find_approval_date(x))\n",
    "recent_cw = cw.copy()\n",
    "recent_cw['Allocation Period'] = recent_cw['Allocation Period (Date Added)'].dt.date\n",
    "recent_cw = recent_cw[recent_cw['Allocation Period'] >= (date.today() + timedelta(days=-30))]\n",
    "\n",
    "mamba_first_cc = mamba[mamba['Send Strategy'].isin(['CT','PT','OT'])]\n",
    "mamba_first_cc = mamba_first_cc.replace('',np.nan)\n",
    "\n",
    "mamba_first_cc = mamba_first_cc.replace('None','')\n",
    "mamba_first_cc = mamba_first_cc.replace('nan','')\n",
    "mamba_first_cc = mamba_first_cc.replace(np.nan,'')\n",
    "\n",
    "mamba_first_cc['All Content Columns'] = mamba_first_cc['Creative'] #+ \"\\n\" + mamba_first_cc['Content'] + \"\\n\" + mamba_first_cc['MMID']\n",
    "mamba_first_cc['All Content Columns'] = mamba_first_cc['All Content Columns'].str.replace('/','\\n')\n",
    "mamba_first_cc['All Content Columns'] = mamba_first_cc['All Content Columns'].apply(lambda x: str(x).split('\\n') )\n",
    "mamba_first_cc = mamba_first_cc.explode('All Content Columns')\n",
    "mamba_first_cc['All Content Columns'] = mamba_first_cc['All Content Columns'].str.replace('\"','')\n",
    "mamba_first_cc['All Content Columns'] = mamba_first_cc['All Content Columns'].str.strip()\n",
    "mamba_first_cc = mamba_first_cc.replace('',np.nan)"
   ]
  },
  {
   "cell_type": "code",
   "execution_count": null,
   "id": "5a1c5553",
   "metadata": {},
   "outputs": [],
   "source": [
    "mamba_first_cc = pd.merge(mamba_first_cc, cw[['Reporting Content ID','index']], how='left', left_on='All Content Columns', right_on='Reporting Content ID', suffixes=['_1','_ccid'])\n",
    "\n",
    "mamba_first_cc = mamba_first_cc.replace(np.nan,'')\n",
    "\n",
    "mamba_first_cc['Mamba Testing ID'] = mamba_first_cc[['All Content Columns','Reporting Content ID']].max(axis=1)\n",
    "\n",
    "def extract_substring(text):\n",
    "        return text.split('*')[0]  # Extract everything before the comma\n",
    "    \n",
    "mamba_first_cc['Mamba Testing ID'] = mamba_first_cc['Mamba Testing ID'].apply(extract_substring)\n",
    "\n",
    "mamba_first_cc = mamba_first_cc.groupby(['Mamba Testing ID']).agg({'Date':'min'}).reset_index()\n",
    "\n",
    "recent_cw = pd.merge(recent_cw[['Reporting Content ID','Allocation Period (Date Added)']], mamba_first_cc, how='left', left_on='Reporting Content ID', right_on='Mamba Testing ID')\n",
    "recent_cw.drop(columns = 'Mamba Testing ID', inplace=True)\n",
    "recent_cw = pd.merge(recent_cw, passed_ids.reset_index()[['CC ID']], left_on='Reporting Content ID', right_on='CC ID', how='left', indicator='Exist')\n",
    "recent_cw.rename(columns={'Exist':'Passed Testing'},inplace=True)\n",
    "recent_cw.drop(columns = 'CC ID', inplace=True)\n",
    "recent_cw = pd.merge(recent_cw, failed_ids.reset_index()[['CC ID']], left_on='Reporting Content ID', right_on='CC ID', how='left', indicator='Exist')\n",
    "recent_cw.rename(columns={'Exist':'Failed Testing','Date':'Earliest Test Date'},inplace=True)\n",
    "recent_cw.drop(columns = 'CC ID', inplace=True)\n",
    "\n",
    "recent_cw.loc[(recent_cw['Passed Testing'] == 'both', 'Test Result')] = 'Pass'\n",
    "recent_cw.loc[(recent_cw['Failed Testing'] == 'both', 'Test Result')] = 'Fail'\n",
    "\n",
    "recent_cw['Test Result'].fillna('Not yet Tested', inplace=True)"
   ]
  },
  {
   "cell_type": "code",
   "execution_count": null,
   "id": "6c44f706",
   "metadata": {},
   "outputs": [],
   "source": [
    "from pandas.api.types import CategoricalDtype\n",
    "sort_order = CategoricalDtype(['Not yet Tested', 'Pass', 'Fail'], ordered=True)\n",
    "recent_cw['Test Result'] = recent_cw['Test Result'].astype(sort_order)\n",
    "recent_cw.loc[((recent_cw['Test Result'] == 'Not yet Tested') & (recent_cw['Earliest Test Date']<lexi_sms['Date'].max()), 'High Alert')] = 1\n",
    "recent_cw['High Alert'].fillna(0,inplace=True)\n",
    "\n",
    "recent_cw.sort_values(by=['High Alert','Test Result','Earliest Test Date','Allocation Period (Date Added)'], inplace=True, ascending=[False,True,True,True], na_position='first')\n",
    "recent_cw.set_index('Reporting Content ID',inplace=True)\n",
    "\n",
    "#recent_cw['CCID in Awaiting Testing - Paused'] = recent_cw.index.to_series().apply(lambda x: awaiting_testing_pieces_paused['Content ID\\'s'].str.contains(x).sum())\n",
    "recent_cw['CCID in Awaiting Testing - Testing'] = recent_cw.index.to_series().apply(lambda x: awaiting_testing_pieces_testing['Content ID\\'s'].str.contains(x).sum())\n",
    "recent_cw['CCID in Awaiting Testing - Live'] = recent_cw.index.to_series().apply(lambda x: awaiting_testing_pieces_live['Content ID\\'s'].str.contains(x).sum())\n",
    "\n",
    "recent_cw_colors = recent_cw.reset_index()\n",
    "#catch_all_awaiting_testing_paused_indices = list(recent_cw_colors[recent_cw_colors['CCID in Awaiting Testing - Paused']==1].index.values + 2)\n",
    "catch_all_awaiting_testing_testing_indices = list(recent_cw_colors[recent_cw_colors['CCID in Awaiting Testing - Testing']==1].index.values + 2)\n",
    "catch_all_awaiting_testing_live_indices = list(recent_cw_colors[recent_cw_colors['CCID in Awaiting Testing - Live']==1].index.values + 2)\n",
    "\n",
    "recent_cw.drop(columns = ['Passed Testing','Failed Testing','High Alert','CCID in Awaiting Testing - Live','CCID in Awaiting Testing - Testing'], inplace = True) #'CCID in Awaiting Testing - Paused'], inplace=True)\n",
    "    \n",
    "recent_cw = recent_cw.reset_index()\n",
    "recent_cw.drop_duplicates(subset='Reporting Content ID', inplace=True)"
   ]
  },
  {
   "cell_type": "code",
   "execution_count": null,
   "id": "c9a52214",
   "metadata": {},
   "outputs": [],
   "source": [
    "#sort\n",
    "awaiting_testing_pieces_live = awaiting_testing_pieces_live.sort_values(by=['Allocation Period (Date Added)','HitPath ID'], ascending=True)\n",
    "awaiting_testing_pieces_testing = awaiting_testing_pieces_testing.sort_values(by=['Allocation Period (Date Added)','HitPath ID'], ascending=True)\n",
    "awaiting_testing_pieces_paused = awaiting_testing_pieces_paused.sort_values(by=['Allocation Period (Date Added)','HitPath ID'], ascending=True)\n",
    "rolling_thirty = rolling_thirty.sort_values(by=['HitPath ID'], ascending=True)\n",
    "passed_ids = passed_ids.sort_values(by=['Test Dates','HitPath ID'], ascending=True)\n",
    "failed_ids = failed_ids.sort_values(by=['Test Dates','HitPath ID'], ascending=True)\n",
    "upcoming_ct = upcoming_ct.sort_values(by=['Date','HitPath ID'], ascending=True)\n",
    "recent_cw = recent_cw.sort_values(by=['Allocation Period (Date Added)','Reporting Content ID'], ascending=True)"
   ]
  },
  {
   "cell_type": "code",
   "execution_count": null,
   "id": "f242c512",
   "metadata": {},
   "outputs": [],
   "source": [
    "rolling_thirty.index = rolling_thirty.index.astype(int)\n",
    "passed_ids.index = passed_ids.index.astype(int)\n",
    "failed_ids.index = failed_ids.index.astype(int)"
   ]
  },
  {
   "cell_type": "code",
   "execution_count": null,
   "id": "9ab0c9d9",
   "metadata": {},
   "outputs": [],
   "source": [
    "#new offer content to add to la nina\n",
    "newcontent = pd.DataFrame(ct, columns =['HitPath ID','Unapproved Content Document Link (Copywriter)','Ready for Akshad (Kellie Checks; Alert Sent)','Date Added to La Nina','Offer Type'])\n",
    "ctlink = \"https://app.smartsheet.com/sheets/63665Vccw4XRFh8c7rGrrCf5mvG7gP5qvhCmx6J1?view=grid\"\n",
    "renamenewcontent = {\n",
    "    'Unapproved Content Document Link (Copywriter)': 'Content Link',\n",
    "    'Ready for Akshad (Kellie Checks; Alert Sent)': 'Ready Status'\n",
    "}\n",
    "\n",
    "newcontent.rename(columns=renamenewcontent, inplace=True)\n",
    "newcontent.dropna(subset=['Content Link'], inplace=True)\n",
    "waitinghitpaths = newcontent[(newcontent['Ready Status'] == True) & (newcontent['Date Added to La Nina'].isnull())]\n",
    "waitinghitpaths['Link to Submission Sheet'] = ctlink\n",
    "waitinghitpaths = waitinghitpaths.loc[:, ['HitPath ID','Offer Type','Content Link','Link to Submission Sheet']]\n",
    "waitinghitpaths.sort_values(by=['HitPath ID'], ascending=True)\n",
    "waitinghitpaths['HitPath ID'] = waitinghitpaths['HitPath ID'].astype(float)\n",
    "waitinghitpaths.set_index('HitPath ID', inplace = True)"
   ]
  },
  {
   "cell_type": "code",
   "execution_count": null,
   "id": "b45deb4b",
   "metadata": {},
   "outputs": [],
   "source": [
    "waitinghitpaths"
   ]
  },
  {
   "cell_type": "code",
   "execution_count": null,
   "id": "dc2b3318",
   "metadata": {
    "scrolled": true
   },
   "outputs": [],
   "source": [
    "awaiting_testing_pieces_paused"
   ]
  },
  {
   "cell_type": "code",
   "execution_count": null,
   "id": "6103a4b7",
   "metadata": {},
   "outputs": [],
   "source": [
    "from openpyxl import Workbook\n",
    "from openpyxl.styles import Font, Color, colors, fills\n",
    "from openpyxl.utils.dataframe import dataframe_to_rows\n",
    "\n",
    "from openpyxl.styles.borders import Border, Side, BORDER_THIN\n",
    "thin_border = Border(\n",
    "    left=Side(border_style=BORDER_THIN, color='00616161'),\n",
    "    right=Side(border_style=BORDER_THIN, color='00616161'),\n",
    "    top=Side(border_style=BORDER_THIN, color='00616161'),\n",
    "    bottom=Side(border_style=BORDER_THIN, color='00616161')\n",
    ")"
   ]
  },
  {
   "cell_type": "code",
   "execution_count": null,
   "id": "389825b8",
   "metadata": {},
   "outputs": [],
   "source": [
    "wb = Workbook()\n",
    "ws = wb.active\n",
    "awaiting_testing_pieces_live_sheet = wb['Sheet']\n",
    "awaiting_testing_pieces_live_sheet.title = 'Awaiting Testing -  Live'\n",
    "awaiting_testing_pieces_live.replace({np.nan: np.nan}, inplace = True) #Replace NaT with nan\n",
    "for r in dataframe_to_rows(awaiting_testing_pieces_live.reset_index(), index=False, header=True):\n",
    "    awaiting_testing_pieces_live_sheet.append(r)"
   ]
  },
  {
   "cell_type": "code",
   "execution_count": null,
   "id": "0a748b38",
   "metadata": {},
   "outputs": [],
   "source": [
    "awaiting_testing_pieces_testing.replace({np.nan: np.nan}, inplace = True) #Replace NaT with nan\n",
    "awaiting_testing_pieces_testing_sheet = wb.create_sheet('Awaiting Testing -  Testing')\n",
    "for r in dataframe_to_rows(awaiting_testing_pieces_testing.reset_index(), index=False, header=True):\n",
    "    awaiting_testing_pieces_testing_sheet.append(r)"
   ]
  },
  {
   "cell_type": "code",
   "execution_count": null,
   "id": "29e8d116",
   "metadata": {},
   "outputs": [],
   "source": [
    "awaiting_testing_pieces_paused.replace({np.nan: np.nan}, inplace = True) #Replace NaT with nan    \n",
    "awaiting_testing_pieces_paused_sheet = wb.create_sheet('Awaiting Testing -  Paused')\n",
    "for r in dataframe_to_rows(awaiting_testing_pieces_paused.reset_index(), index=False, header=True):\n",
    "    awaiting_testing_pieces_paused_sheet.append(r)"
   ]
  },
  {
   "cell_type": "code",
   "execution_count": null,
   "id": "5c677b79",
   "metadata": {},
   "outputs": [],
   "source": [
    "waitinghitpaths.replace({np.nan: np.nan}, inplace = True)#Replace NaT with nan    \n",
    "waitinghitpaths_sheet = wb.create_sheet('Content Not Added to La Nina')\n",
    "for r in dataframe_to_rows(waitinghitpaths.reset_index(), index=False, header=True):\n",
    "    waitinghitpaths_sheet.append(r)"
   ]
  },
  {
   "cell_type": "code",
   "execution_count": null,
   "id": "b5c3ed94",
   "metadata": {},
   "outputs": [],
   "source": [
    "#awaiting_testing_pieces_cpm.replace({np.nan: np.nan}, inplace = True) #Replace NaT with nan\n",
    "#awaiting_testing_pieces_cpm_sheet = wb.create_sheet('Awaiting Testing -  CPM')\n",
    "#for r in dataframe_to_rows(awaiting_testing_pieces_cpm.reset_index(), index=False, header=True):\n",
    "    #awaiting_testing_pieces_cpm_sheet.append(r)"
   ]
  },
  {
   "cell_type": "code",
   "execution_count": null,
   "id": "2f758cc3",
   "metadata": {},
   "outputs": [],
   "source": [
    "#awaiting_testing_pieces_setup.replace({np.nan: np.nan}, inplace = True) #Replace NaT with nan\n",
    "#awaiting_testing_pieces_setup_sheet = wb.create_sheet('Awaiting Testing -  Setup')\n",
    "#for r in dataframe_to_rows(awaiting_testing_pieces_setup.reset_index(), index=False, header=True):\n",
    "    #awaiting_testing_pieces_setup_sheet.append(r)"
   ]
  },
  {
   "cell_type": "code",
   "execution_count": null,
   "id": "b1275bcc",
   "metadata": {},
   "outputs": [],
   "source": [
    "rolling_thirty.replace({np.nan: np.nan}, inplace = True) #Replace NaT with nan\n",
    "rolling_thirty_sheet = wb.create_sheet('Last 30 Days')\n",
    "for r in dataframe_to_rows(rolling_thirty.reset_index(), index=False, header=True):\n",
    "    rolling_thirty_sheet.append(r)"
   ]
  },
  {
   "cell_type": "code",
   "execution_count": null,
   "id": "aec29937",
   "metadata": {},
   "outputs": [],
   "source": [
    "passed_ids.replace({np.nan: np.nan}, inplace = True) #Replace NaT with nan\n",
    "passed_sheet = wb.create_sheet('Recent Passed IDs')\n",
    "for r in dataframe_to_rows(passed_ids.reset_index(), index=False, header=True):\n",
    "    passed_sheet.append(r)"
   ]
  },
  {
   "cell_type": "code",
   "execution_count": null,
   "id": "e51b1357",
   "metadata": {},
   "outputs": [],
   "source": [
    "failed_ids.replace({np.nan: np.nan}, inplace = True) #Replace NaT with nan    \n",
    "failed_sheet = wb.create_sheet('Recent Failed IDs')\n",
    "for r in dataframe_to_rows(failed_ids.reset_index(), index=False, header=True):\n",
    "    failed_sheet.append(r)"
   ]
  },
  {
   "cell_type": "code",
   "execution_count": null,
   "id": "57e673c1",
   "metadata": {},
   "outputs": [],
   "source": [
    "upcoming_ct.replace({np.nan: np.nan}, inplace = True) #Replace NaT with nan\n",
    "upcoming_ct_sheet = wb.create_sheet('Upcoming Tests')\n",
    "for r in dataframe_to_rows(upcoming_ct.reset_index(), index=False, header=True):\n",
    "    upcoming_ct_sheet.append(r) "
   ]
  },
  {
   "cell_type": "code",
   "execution_count": null,
   "id": "688cdb26",
   "metadata": {},
   "outputs": [],
   "source": [
    "#     recent_cw.replace({np.nan: np.nan}, inplace = True) #Replace NaT with nan\n",
    "#     recent_cw_sheet = wb.create_sheet('All Recently Allocated CCIDs')\n",
    "#     for r in dataframe_to_rows(recent_cw.reset_index(), index=False, header=True):\n",
    "#         recent_cw_sheet.append(r)  "
   ]
  },
  {
   "cell_type": "code",
   "execution_count": null,
   "id": "d4bf8983",
   "metadata": {},
   "outputs": [],
   "source": [
    "recent_cw.replace({np.nan: np.nan}, inplace = True) #Replace NaT with nan\n",
    "recent_cw_sheet = wb.create_sheet('All Recently Allocated CCIDs')\n",
    "recent_cw_sheet.append([col for col in recent_cw.columns])\n",
    "for row_pointer in range(len(recent_cw)):\n",
    "    row = [recent_cw.iloc[row_pointer][col_pointer] for col_pointer in range(len(recent_cw.columns))]\n",
    "    recent_cw_sheet.append(row) "
   ]
  },
  {
   "cell_type": "code",
   "execution_count": null,
   "id": "6e4a59bd",
   "metadata": {},
   "outputs": [],
   "source": [
    "for row_index in awaiting_testing_new_hitpath_indices_live:\n",
    "    for cell in awaiting_testing_pieces_live_sheet[(str(row_index)):(str(row_index))]:\n",
    "        cell.fill = fills.PatternFill(patternType='solid', fgColor=Color(rgb='9ef598'))\n",
    "        cell.border = thin_border\n",
    "        awaiting_testing_pieces_live_sheet[('K'+str(row_index))].fill = fills.PatternFill(patternType='solid', fgColor=Color(rgb='9ef598'))\n",
    "        awaiting_testing_pieces_live_sheet[('K'+str(row_index))].border = thin_border\n",
    "    awaiting_testing_pieces_live_sheet[('K'+str(row_index))]='New Offer Highlighted Green'"
   ]
  },
  {
   "cell_type": "code",
   "execution_count": null,
   "id": "e8c53fc2",
   "metadata": {},
   "outputs": [],
   "source": [
    "for row_index in awaiting_testing_new_hitpath_indices_testing:\n",
    "    for cell in awaiting_testing_pieces_testing_sheet[(str(row_index)):(str(row_index))]:\n",
    "        cell.fill = fills.PatternFill(patternType='solid', fgColor=Color(rgb='9ef598'))\n",
    "        cell.border = thin_border\n",
    "        awaiting_testing_pieces_testing_sheet[('K'+str(row_index))].fill = fills.PatternFill(patternType='solid', fgColor=Color(rgb='9ef598'))\n",
    "        awaiting_testing_pieces_testing_sheet[('K'+str(row_index))].border = thin_border\n",
    "    awaiting_testing_pieces_testing_sheet[('K'+str(row_index))]='New Offer Highlighted Green'"
   ]
  },
  {
   "cell_type": "code",
   "execution_count": null,
   "id": "baa9ceea",
   "metadata": {},
   "outputs": [],
   "source": [
    "for row_index in awaiting_testing_new_hitpath_indices_paused:\n",
    "    for cell in awaiting_testing_pieces_paused_sheet[(str(row_index)):(str(row_index))]:\n",
    "        cell.fill = fills.PatternFill(patternType='solid', fgColor=Color(rgb='9ef598'))\n",
    "        cell.border = thin_border\n",
    "        awaiting_testing_pieces_paused_sheet[('K'+str(row_index))].fill = fills.PatternFill(patternType='solid', fgColor=Color(rgb='9ef598'))\n",
    "        awaiting_testing_pieces_paused_sheet[('K'+str(row_index))].border = thin_border\n",
    "    awaiting_testing_pieces_paused_sheet[('K'+str(row_index))]='New Offer Highlighted Green'"
   ]
  },
  {
   "cell_type": "code",
   "execution_count": null,
   "id": "46c8c264",
   "metadata": {},
   "outputs": [],
   "source": [
    "#for row_index in awaiting_testing_new_hitpath_indices_pending:\n",
    "    #for cell in awaiting_testing_pieces_pending_sheet[(str(row_index)):(str(row_index))]:\n",
    "        #cell.fill = fills.PatternFill(patternType='solid', fgColor=Color(rgb='9ef598'))\n",
    "        #cell.border = thin_border\n",
    "        #awaiting_testing_pieces_pending_sheet[('K'+str(row_index))].fill = fills.PatternFill(patternType='solid', fgColor=Color(rgb='9ef598'))\n",
    "        #awaiting_testing_pieces_pending_sheet[('K'+str(row_index))].border = thin_border\n",
    "    #awaiting_testing_pieces_pending_sheet[('K'+str(row_index))]='New Offer Highlighted Green'"
   ]
  },
  {
   "cell_type": "code",
   "execution_count": null,
   "id": "2379f519",
   "metadata": {},
   "outputs": [],
   "source": [
    "#removed temporarily due to no content in la nina-- NoneType object is not iterable\n",
    "#for row_index in awaiting_testing_new_hitpath_indices_setup:\n",
    "    #for cell in awaiting_testing_pieces_setup_sheet[(str(row_index)):(str(row_index))]:\n",
    "        #cell.fill = fills.PatternFill(patternType='solid', fgColor=Color(rgb='9ef598'))\n",
    "        #cell.border = thin_border\n",
    "        #awaiting_testing_pieces_setup_sheet[('K'+str(row_index))].fill = fills.PatternFill(patternType='solid', fgColor=Color(rgb='9ef598'))\n",
    "        #awaiting_testing_pieces_setup_sheet[('K'+str(row_index))].border = thin_border\n",
    "    #awaiting_testing_pieces_setup_sheet[('K'+str(row_index))]='New Offer Highlighted Green'"
   ]
  },
  {
   "cell_type": "code",
   "execution_count": null,
   "id": "57a6ef44",
   "metadata": {},
   "outputs": [],
   "source": [
    "#for row_index in awaiting_testing_cpm_indices_live:\n",
    "    #for cell in awaiting_testing_pieces_live_sheet[(str(row_index)):(str(row_index))]:\n",
    "        #cell.fill = fills.PatternFill(patternType='solid', fgColor=Color(rgb='f5b669'))\n",
    "        #cell.border = thin_border\n",
    "        #awaiting_testing_pieces_live_sheet[('K'+str(row_index))].fill = fills.PatternFill(patternType='solid', fgColor=Color(rgb='f5b669'))\n",
    "        #awaiting_testing_pieces_live_sheet[('K'+str(row_index))].border = thin_border\n",
    "    #awaiting_testing_pieces_live_sheet[('K'+str(row_index))]='CPM Offer Highlighted Orange'"
   ]
  },
  {
   "cell_type": "code",
   "execution_count": null,
   "id": "dfcb7360",
   "metadata": {},
   "outputs": [],
   "source": [
    "#for row_index in awaiting_testing_cpm_indices_testing:\n",
    "    #for cell in awaiting_testing_pieces_testing_sheet[(str(row_index)):(str(row_index))]:\n",
    "        #cell.fill = fills.PatternFill(patternType='solid', fgColor=Color(rgb='f5b669'))\n",
    "        #cell.border = thin_border\n",
    "        #awaiting_testing_pieces_testing_sheet[('K'+str(row_index))].fill = fills.PatternFill(patternType='solid', fgColor=Color(rgb='f5b669'))\n",
    "        #awaiting_testing_pieces_testing_sheet[('K'+str(row_index))].border = thin_border\n",
    "    #awaiting_testing_pieces_testing_sheet[('K'+str(row_index))]='CPM Offer Highlighted Orange'"
   ]
  },
  {
   "cell_type": "code",
   "execution_count": null,
   "id": "17be7c7d",
   "metadata": {},
   "outputs": [],
   "source": [
    "#for row_index in awaiting_testing_cpm_indices_paused:\n",
    "    #for cell in awaiting_testing_pieces_paused_sheet[(str(row_index)):(str(row_index))]:\n",
    "        #cell.fill = fills.PatternFill(patternType='solid', fgColor=Color(rgb='f5b669'))\n",
    "        #cell.border = thin_border\n",
    "        #awaiting_testing_pieces_paused_sheet[('K'+str(row_index))].fill = fills.PatternFill(patternType='solid', fgColor=Color(rgb='f5b669'))\n",
    "        #awaiting_testing_pieces_paused_sheet[('K'+str(row_index))].border = thin_border\n",
    "    #awaiting_testing_pieces_paused_sheet[('K'+str(row_index))]='CPM Offer Highlighted Orange'"
   ]
  },
  {
   "cell_type": "code",
   "execution_count": null,
   "id": "3aa82a2a",
   "metadata": {},
   "outputs": [],
   "source": [
    "#for row_index in awaiting_testing_cpm_indices_pending:\n",
    "    #for cell in awaiting_testing_pieces_pending_sheet[(str(row_index)):(str(row_index))]:\n",
    "        #cell.fill = fills.PatternFill(patternType='solid', fgColor=Color(rgb='f5b669'))\n",
    "        #cell.border = thin_border\n",
    "        #awaiting_testing_pieces_pending_sheet[('K'+str(row_index))].fill = fills.PatternFill(patternType='solid', fgColor=Color(rgb='f5b669'))\n",
    "        #awaiting_testing_pieces_pending_sheet[('K'+str(row_index))].border = thin_border\n",
    "    #awaiting_testing_pieces_pending_sheet[('K'+str(row_index))]='CPM Offer Highlighted Orange'"
   ]
  },
  {
   "cell_type": "code",
   "execution_count": null,
   "id": "40f47ed2",
   "metadata": {},
   "outputs": [],
   "source": [
    "#for row_index in awaiting_testing_cpm_indices_setup:\n",
    "    #for cell in awaiting_testing_pieces_setup_sheet[(str(row_index)):(str(row_index))]:\n",
    "        #cell.fill = fills.PatternFill(patternType='solid', fgColor=Color(rgb='f5b669'))\n",
    "        #cell.border = thin_border\n",
    "        #awaiting_testing_pieces_setup_sheet[('K'+str(row_index))].fill = fills.PatternFill(patternType='solid', fgColor=Color(rgb='f5b669'))\n",
    "        #awaiting_testing_pieces_setup_sheet[('K'+str(row_index))].border = thin_border\n",
    "    #awaiting_testing_pieces_setup_sheet[('K'+str(row_index))]='CPM Offer Highlighted Orange'"
   ]
  },
  {
   "cell_type": "code",
   "execution_count": null,
   "id": "cda6ce28",
   "metadata": {},
   "outputs": [],
   "source": [
    "for row_index in rolling_thirty_indices:\n",
    "    for cell in rolling_thirty_sheet[(str(row_index)):(str(row_index))]:\n",
    "        cell.fill = fills.PatternFill(patternType='solid', fgColor=Color(rgb='71AFE2'))\n",
    "        cell.border = thin_border\n",
    "        rolling_thirty_sheet[('L'+str(row_index))].fill = fills.PatternFill(patternType='solid', fgColor=Color(rgb='71AFE2'))\n",
    "        rolling_thirty_sheet[('L'+str(row_index))].border = thin_border\n",
    "    rolling_thirty_sheet[('L'+str(row_index))]='First Custom Content for Offer Highlighted Blue'"
   ]
  },
  {
   "cell_type": "code",
   "execution_count": null,
   "id": "f4049805",
   "metadata": {},
   "outputs": [],
   "source": [
    "for row_index in passed_indices:\n",
    "    for cell in passed_sheet[(str(row_index)):(str(row_index))]:\n",
    "        cell.fill = fills.PatternFill(patternType='solid', fgColor=Color(rgb='71AFE2'))\n",
    "        cell.border = thin_border\n",
    "        passed_sheet[('K'+str(row_index))].fill = fills.PatternFill(patternType='solid', fgColor=Color(rgb='71AFE2'))\n",
    "        passed_sheet[('K'+str(row_index))].border = thin_border\n",
    "    passed_sheet[('K'+str(row_index))]='First Custom Content for Offer Highlighted Blue'"
   ]
  },
  {
   "cell_type": "code",
   "execution_count": null,
   "id": "a4795038",
   "metadata": {},
   "outputs": [],
   "source": [
    "for row_index in catch_all_awaiting_testing_testing_indices:\n",
    "    for cell in recent_cw_sheet[(str(row_index)):(str(row_index))]:\n",
    "        cell.fill = fills.PatternFill(patternType='solid', fgColor=Color(rgb='f5b669'))\n",
    "        cell.border = thin_border\n",
    "        recent_cw_sheet[('E'+str(row_index))].fill = fills.PatternFill(patternType='solid', fgColor=Color(rgb='f5b669'))\n",
    "        recent_cw_sheet[('E'+str(row_index))].border = thin_border\n",
    "    recent_cw_sheet[('E'+str(row_index))]='CCID in Awaiting Testing - Testing' "
   ]
  },
  {
   "cell_type": "code",
   "execution_count": null,
   "id": "5cd3dfaa",
   "metadata": {},
   "outputs": [],
   "source": [
    "#for row_index in catch_all_awaiting_testing_paused_indices:\n",
    "    #for cell in recent_cw_sheet[(str(row_index)):(str(row_index))]:\n",
    "        #cell.fill = fills.PatternFill(patternType='solid', fgColor=Color(rgb='fc6a6a'))\n",
    "        #cell.border = thin_border\n",
    "        #recent_cw_sheet[('E'+str(row_index))].fill = fills.PatternFill(patternType='solid', fgColor=Color(rgb='fc6a6a'))\n",
    "        #recent_cw_sheet[('E'+str(row_index))].border = thin_border\n",
    "    #recent_cw_sheet[('E'+str(row_index))]='CCID in Awaiting Testing - Paused' "
   ]
  },
  {
   "cell_type": "code",
   "execution_count": null,
   "id": "74f314e2",
   "metadata": {},
   "outputs": [],
   "source": [
    "for row_index in catch_all_awaiting_testing_live_indices:\n",
    "    for cell in recent_cw_sheet[(str(row_index)):(str(row_index))]:\n",
    "        cell.fill = fills.PatternFill(patternType='solid', fgColor=Color(rgb='3cb043'))\n",
    "        cell.border = thin_border\n",
    "        recent_cw_sheet[('E'+str(row_index))].fill = fills.PatternFill(patternType='solid', fgColor=Color(rgb='3cb043'))\n",
    "        recent_cw_sheet[('E'+str(row_index))].border = thin_border\n",
    "    recent_cw_sheet[('E'+str(row_index))]='CCID in Awaiting Testing - Live' "
   ]
  },
  {
   "cell_type": "code",
   "execution_count": null,
   "id": "08deba25",
   "metadata": {},
   "outputs": [],
   "source": [
    "#removed awaiting_testing_pieces_cpm_sheet from all_sheets\n",
    "#remove awaiting_testing_pieces_setup_sheet from all_sheets\n",
    "all_sheets = [awaiting_testing_pieces_live_sheet,awaiting_testing_pieces_testing_sheet,awaiting_testing_pieces_paused_sheet,waitinghitpaths_sheet,rolling_thirty_sheet,passed_sheet,failed_sheet,upcoming_ct_sheet,recent_cw_sheet]"
   ]
  },
  {
   "cell_type": "code",
   "execution_count": null,
   "id": "53d25220",
   "metadata": {},
   "outputs": [],
   "source": [
    "for ws in all_sheets:\n",
    "    dims = {}\n",
    "    for row in ws.rows:\n",
    "        for cell in ws[\"1:1\"]:\n",
    "            cell.font = Font(bold=True)\n",
    "        for cell in row:\n",
    "            newline_count = 1\n",
    "            if cell.value:\n",
    "                if type(cell.value)==str:\n",
    "                    if ('\\n' in cell.value):\n",
    "                        newline_count = cell.value.count('\\n')\n",
    "                dims[cell.column_letter] = max((dims.get(cell.column_letter, 0), len(str(cell.value))))/newline_count \n",
    "    for col, value in dims.items():\n",
    "        ws.column_dimensions[col].width = value"
   ]
  },
  {
   "cell_type": "code",
   "execution_count": null,
   "id": "adca0050",
   "metadata": {},
   "outputs": [],
   "source": [
    "import os\n",
    "\n",
    "today = date.today().strftime(\"%m_%d_%Y\")\n",
    "save_path = filepath.output_folder + \"Content Feedback Loop Reports/\"\n",
    "filename = os.path.join(save_path, f\"Content_Feedback_Loop_Report_{today}.xlsx\")\n",
    "\n",
    "wb.save(filename)\n",
    "\n",
    "#filename = f\"Content_Feedback_Loop_Report_{today}.xlsx\"\n",
    "#wb.save(filename)"
   ]
  },
  {
   "cell_type": "code",
   "execution_count": null,
   "id": "29181bac",
   "metadata": {},
   "outputs": [],
   "source": [
    "#email\n",
    "#toaddr = ['lili@rxmg.com', 'tinamarie@rxmg.com', 'g.chao@rxmg.com','nathan@rxmg.com','r.woodward@rxmg.com']\n",
    "toaddr = ['g.chao@rxmg.com', 'lili@rxmg.com', 'nathan@rxmg.com','nina@rxmg.com','offernotices@rxmg.com', 'b.ratzlaff@rxmg.com']\n",
    "#toaddr = ['g.chao@rxmg.com']\n",
    "subject_line = f\"SMS Team Content Feedback Loop Report - {today}\"\n",
    "email_body = \"Hi Team,\\n\\n\"\n",
    "email_body += \"Attached is today's Content Feedback Loop Report.\\n\" \n",
    "email_body += f\"\\nThanks,\\n{filepath.name}\\n\\n\"\n",
    "\n",
    "#send email\n",
    "for i in toaddr:\n",
    "    send_email.send_email([filename], subject_line, email_body, i)"
   ]
  },
  {
   "cell_type": "code",
   "execution_count": null,
   "id": "313463f4",
   "metadata": {},
   "outputs": [],
   "source": []
  }
 ],
 "metadata": {
  "kernelspec": {
   "display_name": "Python 3 (ipykernel)",
   "language": "python",
   "name": "python3"
  },
  "language_info": {
   "codemirror_mode": {
    "name": "ipython",
    "version": 3
   },
   "file_extension": ".py",
   "mimetype": "text/x-python",
   "name": "python",
   "nbconvert_exporter": "python",
   "pygments_lexer": "ipython3",
   "version": "3.11.5"
  }
 },
 "nbformat": 4,
 "nbformat_minor": 5
}
