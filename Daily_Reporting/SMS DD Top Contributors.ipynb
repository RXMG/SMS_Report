{
 "cells": [
  {
   "cell_type": "code",
   "execution_count": 190,
   "metadata": {},
   "outputs": [],
   "source": [
    "import pandas as pd \n",
    "import numpy as np \n",
    "import infrastructure\n",
    "import filepath \n",
    "import pygsheets\n",
    "from datetime import datetime, timedelta\n",
    "import openpyxl \n",
    "import os\n",
    "from pathlib import Path\n",
    "import xlsxwriter\n",
    "import send_email\n",
    "\n",
    "from IPython.display import display, HTML"
   ]
  },
  {
   "cell_type": "code",
   "execution_count": 191,
   "metadata": {},
   "outputs": [
    {
     "name": "stderr",
     "output_type": "stream",
     "text": [
      "/Users/nathan/opt/anaconda3/lib/python3.8/site-packages/pygsheets/worksheet.py:1554: UserWarning: At least one column name in the data frame is an empty string. If this is a concern, please specify include_tailing_empty=False and/or ensure that each column containing data has a name.\n",
      "  warnings.warn('At least one column name in the data frame is an empty string. If this is a concern, please specify include_tailing_empty=False and/or ensure that each column containing data has a name.')\n"
     ]
    }
   ],
   "source": [
    "#Publisher Config\n",
    "gc = pygsheets.authorize(service_account_file=filepath.service_account_location)\n",
    "publisher_config = gc.open_by_url(\n",
    "    'https://docs.google.com/spreadsheets/d/1Tzda6Djr3zQmOhWu7Ief3GVR9Cjaml8238CeX7chj_U/edit#gid=1620368362') \n",
    "pub_config = publisher_config[0].get_as_df()\n",
    "pub_config.rename(columns={'DP.DS or DP.sV': 'DP.SV'}, inplace=True)"
   ]
  },
  {
   "cell_type": "code",
   "execution_count": 192,
   "metadata": {},
   "outputs": [],
   "source": [
    "sms_offer = infrastructure.get_smartsheet('offers_sms')\n",
    "sms_offer = sms_offer[sms_offer['Hitpath Offer ID'].isna() == False]"
   ]
  },
  {
   "cell_type": "code",
   "execution_count": 193,
   "metadata": {},
   "outputs": [],
   "source": [
    "file_name = 'sales-2024-07_exported_on_2024_07_15_11_39_23.csv'\n",
    "file_path = os.path.join('input', file_name)\n",
    "\n",
    "# Read the CSV file\n",
    "df = pd.read_csv(file_path)"
   ]
  },
  {
   "cell_type": "code",
   "execution_count": 194,
   "metadata": {},
   "outputs": [],
   "source": [
    "filtered_df = df[df['affiliate_name'].str.contains('SMS', na=False)]\n",
    "filtered_df = filtered_df.dropna(subset=['campaign_id'])"
   ]
  },
  {
   "cell_type": "code",
   "execution_count": 195,
   "metadata": {},
   "outputs": [],
   "source": [
    "sms_offer['Hitpath Offer ID'] = sms_offer['Hitpath Offer ID'].astype(int).astype(str)\n",
    "filtered_df['campaign_id'] = filtered_df['campaign_id'].astype(int).astype(str)\n",
    "\n",
    "sms_offer.rename(columns={'Hitpath Offer ID': 'hitpath_offer_id'}, inplace=True)\n",
    "filtered_df.rename(columns={'campaign_id': 'hitpath_offer_id'}, inplace=True)"
   ]
  },
  {
   "cell_type": "code",
   "execution_count": 196,
   "metadata": {},
   "outputs": [],
   "source": [
    "#merge Vertical by Hitpath Offer ID from sms_offer with filtered_df\n",
    "filtered_df = pd.merge(filtered_df, sms_offer[['hitpath_offer_id', 'Vertical', 'Offer Name']], on='hitpath_offer_id', how='left')\n"
   ]
  },
  {
   "cell_type": "code",
   "execution_count": 197,
   "metadata": {},
   "outputs": [],
   "source": [
    "#if campaign_name is NaN and hitpath_offer_id has associating Campaign Name, then fill the NaN with Campaign Name\n",
    "filtered_df['campaign_name'] = np.where(filtered_df['campaign_name'].isna() & filtered_df['Offer Name'].notna(), filtered_df['Offer Name'], filtered_df['campaign_name'])"
   ]
  },
  {
   "cell_type": "code",
   "execution_count": 198,
   "metadata": {},
   "outputs": [
    {
     "data": {
      "text/html": [
       "<html><body><h1 style='color: black;'>Top Contributors</h1><h2 style ='color:black;'>Top 5 Contributors by Affiliate Name:</h2><ol><li style ='color:black;'> LM_SMS_InterestMedia_Surveys: $3257.41</li><li style ='color:black;'> LM_SMS_Edemographic_247Loans: $2431.84</li><li style ='color:black;'> LM_SMS_Pushnami_Sweepstakes: $1721.97</li><li style ='color:black;'> SMS_Internal_MFA_Dupes: $1631.19</li><li style ='color:black;'> LM_SMS_SaltMedia_Surveys: $1561.06</li></ol><h2 style ='color:black;'>Top 5 Contributors by Campaign:</h2><ol><li style ='color:black;'> 11600 - Unemployments Benefits Guide - Stimulus Carousel - What If Media (SMS): $3112.90</li><li style ='color:black;'> 12972 - Everyday Resources (SMS): $2850.00</li><li style ='color:black;'> 13194 - Funds-Now.com - AvenueLink (SMS-OPS): $1895.14</li><li style ='color:black;'> 13113 - Auto Insurance - ProQuoteUS - Dynamic CPL - Kissterra (SMS-1795): $1835.88</li><li style ='color:black;'> 12710 - Unemployment Benefits Guide - State Stimulus - What If Media (SMS2-1837): $1625.20</li></ol><h2 style ='color:black;'>Top 5 Contributors by Advertiser Name:</h2><ol><li style ='color:black;'> AvenueLink: $5155.97</li><li style ='color:black;'> What If Media: $5002.40</li><li style ='color:black;'> Diablo Media, LLC: $2850.00</li><li style ='color:black;'> B2 Direct: $2090.00</li><li style ='color:black;'> Kisstera: $1835.88</li></ol><h2 style ='color:black;'>Top 5 Contributors by Vertical:</h2><ol><li style ='color:black;'> Resources: $9068.68</li><li style ='color:black;'> Loan: $5992.45</li><li style ='color:black;'> Credit Card: $2296.10</li><li style ='color:black;'> Auto Insurance: $1848.38</li><li style ='color:black;'> Paid Deals: $504.00</li></ol></body></html>"
      ],
      "text/plain": [
       "<IPython.core.display.HTML object>"
      ]
     },
     "metadata": {},
     "output_type": "display_data"
    }
   ],
   "source": [
    "# Group by affiliate_name and calculate total amount\n",
    "affiliate_totals = filtered_df.groupby('affiliate_name')['amount'].sum().reset_index()\n",
    "top_affiliates = affiliate_totals.sort_values(by='amount', ascending=False).head(5)\n",
    "\n",
    "# Group by campaign_id and calculate total amount\n",
    "campaign_totals = filtered_df.groupby(['hitpath_offer_id', 'campaign_name'])['amount'].sum().reset_index()\n",
    "top_campaigns = campaign_totals.sort_values(by='amount', ascending=False).head(5)\n",
    "\n",
    "# Group by advertiser_name and calculate total amount\n",
    "advertiser_totals = filtered_df.groupby('advertiser_name')['amount'].sum().reset_index()\n",
    "top_advertisers = advertiser_totals.sort_values(by='amount', ascending=False).head(5)\n",
    "\n",
    "# Group by Vertical and calculate total amount\n",
    "vertical_totals = filtered_df.groupby('Vertical')['amount'].sum().reset_index()\n",
    "top_verticals = vertical_totals.sort_values(by='amount', ascending=False).head(5)\n",
    "\n",
    "# Start of the HTML email text\n",
    "email_html = \"<html><body>\"\n",
    "\n",
    "email_html += \"<h1 style='color: black;'>Top Contributors</h1>\"\n",
    "\n",
    "# Top 5 Contributors by Affiliate Name\n",
    "email_html += \"<h2 style ='color:black;'>Top 5 Contributors by Affiliate Name:</h2><ol>\"\n",
    "for i, row in enumerate(top_affiliates.itertuples(), start=1):\n",
    "    email_html += f\"<li style ='color:black;'> {row.affiliate_name}: ${row.amount:.2f}</li>\"\n",
    "email_html += \"</ol>\"\n",
    "\n",
    "# Top 5 Contributors by Campaign\n",
    "email_html += \"<h2 style ='color:black;'>Top 5 Contributors by Campaign:</h2><ol>\"\n",
    "for i, row in enumerate(top_campaigns.itertuples(), start=1):\n",
    "    campaign_name = row.campaign_name if pd.notna(row.campaign_name) else \"No Name\"\n",
    "    email_html += f\"<li style ='color:black;'> {row.hitpath_offer_id} - {campaign_name}: ${row.amount:.2f}</li>\"\n",
    "email_html += \"</ol>\"\n",
    "\n",
    "# Top 5 Contributors by Advertiser Name\n",
    "email_html += \"<h2 style ='color:black;'>Top 5 Contributors by Advertiser Name:</h2><ol>\"\n",
    "for i, row in enumerate(top_advertisers.itertuples(), start=1):\n",
    "    email_html += f\"<li style ='color:black;'> {row.advertiser_name}: ${row.amount:.2f}</li>\"\n",
    "email_html += \"</ol>\"\n",
    "\n",
    "# Top 5 Contributors by Vertical\n",
    "email_html += \"<h2 style ='color:black;'>Top 5 Contributors by Vertical:</h2><ol>\"\n",
    "for i, row in enumerate(top_verticals.itertuples(), start=1):\n",
    "    email_html += f\"<li style ='color:black;'> {row.Vertical}: ${row.amount:.2f}</li>\"\n",
    "email_html += \"</ol>\"\n",
    "\n",
    "email_html += \"</body></html>\"\n",
    "\n",
    "\n",
    "display(HTML(email_html))\n"
   ]
  },
  {
   "cell_type": "code",
   "execution_count": null,
   "metadata": {},
   "outputs": [],
   "source": []
  }
 ],
 "metadata": {
  "kernelspec": {
   "display_name": "base",
   "language": "python",
   "name": "python3"
  },
  "language_info": {
   "codemirror_mode": {
    "name": "ipython",
    "version": 3
   },
   "file_extension": ".py",
   "mimetype": "text/x-python",
   "name": "python",
   "nbconvert_exporter": "python",
   "pygments_lexer": "ipython3",
   "version": "3.8.8"
  }
 },
 "nbformat": 4,
 "nbformat_minor": 2
}
