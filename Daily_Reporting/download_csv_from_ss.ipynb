{
 "cells": [
  {
   "cell_type": "code",
   "execution_count": 1,
   "metadata": {},
   "outputs": [
    {
     "name": "stderr",
     "output_type": "stream",
     "text": [
      "/Users/nathanohashi/Library/Python/3.9/lib/python/site-packages/urllib3/__init__.py:35: NotOpenSSLWarning: urllib3 v2 only supports OpenSSL 1.1.1+, currently the 'ssl' module is compiled with 'LibreSSL 2.8.3'. See: https://github.com/urllib3/urllib3/issues/3020\n",
      "  warnings.warn(\n"
     ]
    }
   ],
   "source": [
    "import csv\n",
    "import logging\n",
    "import requests\n",
    "from datetime import datetime, timedelta\n",
    "from time import sleep\n",
    "import os\n",
    "import shutil\n",
    "import pandas as pd\n",
    "logging.basicConfig(level=logging.DEBUG)\n",
    "\n",
    "# Base URL\n",
    "base_url = \"https://admin.ezsend.io/admin/api/v1\"\n",
    "\n",
    "# Authentication endpoint\n",
    "auth_endpoint = f\"https://admin.ezsend.io/admin/api/session\""
   ]
  },
  {
   "cell_type": "code",
   "execution_count": 2,
   "metadata": {},
   "outputs": [],
   "source": [
    "def authenticate(username, password):\n",
    "    auth_data = {\"username\": username, \"password\": password}\n",
    "    response = requests.post(auth_endpoint, json=auth_data)\n",
    "    if response.status_code == 200:\n",
    "        auth_token = response.json().get(\"authtoken\")\n",
    "        print(\"Authentication successful. Auth token:\", auth_token)\n",
    "        return auth_token\n",
    "    else:\n",
    "        print(\"Authentication failed:\", response.status_code)\n",
    "        print(\"Response content:\", response.content)\n",
    "        return None"
   ]
  },
  {
   "cell_type": "code",
   "execution_count": 3,
   "metadata": {},
   "outputs": [],
   "source": [
    "def fetch_data(endpoint, auth_token):\n",
    "    headers = {\"X-Authtoken\": auth_token, \"Accept\": \"application/json\"}  # Use Accept header instead of Content-Type\n",
    "    max_retries = 5\n",
    "    retries = 0\n",
    "    \n",
    "    while retries < max_retries:\n",
    "        response = requests.get(endpoint, headers=headers)\n",
    "        if response.status_code == 200:\n",
    "            return response.json()\n",
    "        elif response.status_code == 502:\n",
    "            retries += 1\n",
    "            print(f\"502 error encountered. Retrying {retries}/{max_retries} in 5 seconds...\")\n",
    "            sleep(5)\n",
    "        else:\n",
    "            print(\"Failed to fetch data from endpoint:\", endpoint)\n",
    "            print(\"Response status code:\", response.status_code)\n",
    "            print(\"Response content:\", response.content)\n",
    "            return None\n",
    "    \n",
    "    print(\"Maximum retries reached. Unable to fetch data.\")\n",
    "    return None"
   ]
  },
  {
   "cell_type": "code",
   "execution_count": 4,
   "metadata": {},
   "outputs": [],
   "source": [
    "# Function to generate endpoints with start and end dates\n",
    "def generate_endpoint(endpoint_name, start_date=None, end_date=None, scheduled_start=None, scheduled_end=None):\n",
    "    # Dictionary to map endpoint names to their display names\n",
    "    endpoint_display_names = {\n",
    "        \"sms\": \"SMS_SC_SS_Report\",\n",
    "        \"segment\": \"SMS_SC_SS_Segments\",\n",
    "        \"offer\": \"SMS_SC_SS_Offers\",\n",
    "        \"smsjob\": \"jobs\",\n",
    "        \"smsreport\": \"creativestats\", # SMS Offer Report\n",
    "        \"apikey\": \"apikeyreport\",\n",
    "        \"smsflowreport\": \"SMS_SC_SS_Flows\"\n",
    "    }\n",
    "    \n",
    "    # Base endpoint URL\n",
    "    endpoint = f\"{base_url}/{endpoint_name}?offset=0&limit=-1\"\n",
    "    \n",
    "    # Sorting configuration for each endpoint\n",
    "    sort_config = {\n",
    "        \"sms\": \"&sort_column=shortcode&sort_order=descending\",\n",
    "        \"segment\": \"&sort_column=id&sort_order=descending\",\n",
    "        \"offer\": \"&sort_column=id&sort_order=ascending\",\n",
    "        \"smsjob\": \"&sort_column=status&sort_order=ascending\",\n",
    "        \"smsreport\": \"&sort_column=job_tstamp&sort_order=ascending\",\n",
    "        \"apikey\": \"&sort_column=name&sort_order=ascending\",\n",
    "        \"smsflowreport\": \"&sort_column=count_deliver&sort_order=descending\"\n",
    "    }\n",
    "    \n",
    "    # Add sorting configuration\n",
    "    endpoint += sort_config.get(endpoint_name, \"\")\n",
    "    \n",
    "    # Filter configuration for Jobs endpoint\n",
    "    if endpoint_name == \"smsjob\":\n",
    "        scheduled_start = start_date if scheduled_start else None\n",
    "        scheduled_end = end_date if scheduled_end else None\n",
    "        if scheduled_start:\n",
    "            endpoint += f\"&filter=scheduled_tstamp_date_start%7Cgreater_or_equal%7C{scheduled_start}\"\n",
    "        if scheduled_end:\n",
    "            endpoint += f\"&filter=scheduled_tstamp_date_end%7Cless_than%7C{scheduled_end}\"\n",
    "    \n",
    "    # Start and end date configuration\n",
    "    if start_date and end_date:\n",
    "        endpoint += f\"&start={start_date}&end={end_date}\"\n",
    "    \n",
    "    return endpoint\n",
    "\n",
    "# Function to save data to CSV file\n",
    "def save_to_csv(data, filename):\n",
    "    if data:\n",
    "        # Get all unique keys across the data dictionaries\n",
    "        fieldnames = set().union(*(d.keys() for d in data))\n",
    "        \n",
    "        with open(filename, mode='w', newline='') as file:\n",
    "            writer = csv.DictWriter(file, fieldnames=fieldnames)\n",
    "            writer.writeheader()\n",
    "            writer.writerows(data)\n",
    "        \n",
    "        print(f\"Data saved to {filename}\")\n",
    "    else:\n",
    "        print(\"No data received. Unable to save to CSV.\")"
   ]
  },
  {
   "cell_type": "code",
   "execution_count": 5,
   "metadata": {},
   "outputs": [
    {
     "name": "stdout",
     "output_type": "stream",
     "text": [
      "['20240705', '20240706', '20240707']\n",
      "Start date: 2024-07-05\n",
      "End date: 2024-07-07\n",
      "Report date: 20240707\n"
     ]
    }
   ],
   "source": [
    "if datetime.today().isoweekday() == 1: # Check if it is Monday\n",
    "    start_date = (datetime.today() - timedelta(days=3)).strftime('%Y-%m-%d') # If Monday: start_date = Friday\n",
    "else:\n",
    "    start_date = (datetime.today() - timedelta(days=1)).strftime('%Y-%m-%d')\n",
    "\n",
    "end_date = (datetime.today() - timedelta(days=1)).strftime('%Y-%m-%d')\n",
    "report_date = (datetime.today() - timedelta(days=1)).strftime('%Y%m%d')\n",
    "today_date = datetime.today().strftime('%Y%m%d')\n",
    "\n",
    "# Convert start_date and end_date back to datetime.date objects\n",
    "start_date_dt = datetime.strptime(start_date, '%Y-%m-%d').date()\n",
    "end_date_dt = datetime.strptime(end_date, '%Y-%m-%d').date()\n",
    "\n",
    "# Generate the list of dates\n",
    "if datetime.today().isoweekday() == 1:\n",
    "    date_list = [(start_date_dt + timedelta(days=x)).strftime(\"%Y%m%d\") for x in range((end_date_dt - start_date_dt).days + 1)]\n",
    "    # Print the list of dates\n",
    "    print(date_list)\n",
    "\n",
    "print(\"Start date:\", start_date)\n",
    "print(\"End date:\", end_date)\n",
    "print(\"Report date:\", report_date)\n",
    "username = \"rxmarketing_andrew\"\n",
    "password = \"t37yA^27to@U666Dcodp\""
   ]
  },
  {
   "cell_type": "code",
   "execution_count": 6,
   "metadata": {},
   "outputs": [
    {
     "name": "stderr",
     "output_type": "stream",
     "text": [
      "DEBUG:urllib3.connectionpool:Starting new HTTPS connection (1): admin.ezsend.io:443\n",
      "DEBUG:urllib3.connectionpool:https://admin.ezsend.io:443 \"POST /admin/api/session HTTP/11\" 200 882\n",
      "DEBUG:urllib3.connectionpool:Starting new HTTPS connection (1): admin.ezsend.io:443\n"
     ]
    },
    {
     "name": "stdout",
     "output_type": "stream",
     "text": [
      "Authentication successful. Auth token: c07e32b1-025a-46f8-8d88-c5466c7cb316\n",
      "[('SMS_SC_SS_Report', 'https://admin.ezsend.io/admin/api/v1/sms?offset=0&limit=-1&sort_column=shortcode&sort_order=descending&start=2024-07-05&end=2024-07-05')]\n"
     ]
    },
    {
     "name": "stderr",
     "output_type": "stream",
     "text": [
      "DEBUG:urllib3.connectionpool:https://admin.ezsend.io:443 \"GET /admin/api/v1/sms?offset=0&limit=-1&sort_column=shortcode&sort_order=descending&start=2024-07-05&end=2024-07-05 HTTP/11\" 200 132556\n"
     ]
    },
    {
     "name": "stdout",
     "output_type": "stream",
     "text": [
      "Data saved to SMS_SC_SS_Report20240705.csv\n",
      "Data saved to SMS_SC_SS_Report20240705.csv\n"
     ]
    },
    {
     "name": "stderr",
     "output_type": "stream",
     "text": [
      "DEBUG:urllib3.connectionpool:Starting new HTTPS connection (1): admin.ezsend.io:443\n"
     ]
    },
    {
     "name": "stdout",
     "output_type": "stream",
     "text": [
      "[('SMS_SC_SS_Report', 'https://admin.ezsend.io/admin/api/v1/sms?offset=0&limit=-1&sort_column=shortcode&sort_order=descending&start=2024-07-06&end=2024-07-06')]\n"
     ]
    },
    {
     "name": "stderr",
     "output_type": "stream",
     "text": [
      "DEBUG:urllib3.connectionpool:https://admin.ezsend.io:443 \"GET /admin/api/v1/sms?offset=0&limit=-1&sort_column=shortcode&sort_order=descending&start=2024-07-06&end=2024-07-06 HTTP/11\" 200 127674\n"
     ]
    },
    {
     "name": "stdout",
     "output_type": "stream",
     "text": [
      "Data saved to SMS_SC_SS_Report20240706.csv\n",
      "Data saved to SMS_SC_SS_Report20240706.csv\n"
     ]
    },
    {
     "name": "stderr",
     "output_type": "stream",
     "text": [
      "DEBUG:urllib3.connectionpool:Starting new HTTPS connection (1): admin.ezsend.io:443\n"
     ]
    },
    {
     "name": "stdout",
     "output_type": "stream",
     "text": [
      "[('SMS_SC_SS_Report', 'https://admin.ezsend.io/admin/api/v1/sms?offset=0&limit=-1&sort_column=shortcode&sort_order=descending&start=2024-07-07&end=2024-07-07')]\n"
     ]
    },
    {
     "name": "stderr",
     "output_type": "stream",
     "text": [
      "DEBUG:urllib3.connectionpool:https://admin.ezsend.io:443 \"GET /admin/api/v1/sms?offset=0&limit=-1&sort_column=shortcode&sort_order=descending&start=2024-07-07&end=2024-07-07 HTTP/11\" 200 128436\n"
     ]
    },
    {
     "name": "stdout",
     "output_type": "stream",
     "text": [
      "Data saved to SMS_SC_SS_Report20240707.csv\n",
      "Data saved to SMS_SC_SS_Report20240707.csv\n"
     ]
    },
    {
     "name": "stderr",
     "output_type": "stream",
     "text": [
      "DEBUG:urllib3.connectionpool:Starting new HTTPS connection (1): admin.ezsend.io:443\n",
      "DEBUG:urllib3.connectionpool:https://admin.ezsend.io:443 \"GET /admin/api/v1/segment?offset=0&limit=-1&sort_column=id&sort_order=descending HTTP/11\" 200 362018\n"
     ]
    },
    {
     "name": "stdout",
     "output_type": "stream",
     "text": [
      "Data saved to SMS_SC_SS_Segments20240707.csv\n",
      "Data saved to SMS_SC_SS_Segments20240707.csv\n"
     ]
    },
    {
     "name": "stderr",
     "output_type": "stream",
     "text": [
      "DEBUG:urllib3.connectionpool:Starting new HTTPS connection (1): admin.ezsend.io:443\n",
      "DEBUG:urllib3.connectionpool:https://admin.ezsend.io:443 \"GET /admin/api/v1/offer?offset=0&limit=-1&sort_column=id&sort_order=ascending HTTP/11\" 200 754976\n"
     ]
    },
    {
     "name": "stdout",
     "output_type": "stream",
     "text": [
      "Data saved to SMS_SC_SS_Offers.csv\n",
      "Data saved to SMS_SC_SS_Offers.csv\n"
     ]
    },
    {
     "name": "stderr",
     "output_type": "stream",
     "text": [
      "DEBUG:urllib3.connectionpool:Starting new HTTPS connection (1): admin.ezsend.io:443\n",
      "DEBUG:urllib3.connectionpool:https://admin.ezsend.io:443 \"GET /admin/api/v1/smsjob?offset=0&limit=-1&sort_column=status&sort_order=ascending&start=2024-07-05&end=2024-07-07 HTTP/11\" 200 30498327\n"
     ]
    },
    {
     "name": "stdout",
     "output_type": "stream",
     "text": [
      "Data saved to jobs.csv\n",
      "Data saved to jobs.csv\n"
     ]
    },
    {
     "name": "stderr",
     "output_type": "stream",
     "text": [
      "DEBUG:urllib3.connectionpool:Starting new HTTPS connection (1): admin.ezsend.io:443\n",
      "DEBUG:urllib3.connectionpool:https://admin.ezsend.io:443 \"GET /admin/api/v1/smsreport?offset=0&limit=-1&sort_column=job_tstamp&sort_order=ascending&start=2024-07-05&end=2024-07-07 HTTP/11\" 200 203978\n"
     ]
    },
    {
     "name": "stdout",
     "output_type": "stream",
     "text": [
      "Data saved to creativestats.csv\n",
      "Data saved to creativestats.csv\n"
     ]
    },
    {
     "name": "stderr",
     "output_type": "stream",
     "text": [
      "DEBUG:urllib3.connectionpool:Starting new HTTPS connection (1): admin.ezsend.io:443\n",
      "DEBUG:urllib3.connectionpool:https://admin.ezsend.io:443 \"GET /admin/api/v1/apikey?offset=0&limit=-1&sort_column=name&sort_order=ascending HTTP/11\" 200 78607\n"
     ]
    },
    {
     "name": "stdout",
     "output_type": "stream",
     "text": [
      "Data saved to apikeyreport2024-07-07.csv\n",
      "Data saved to apikeyreport2024-07-07.csv\n"
     ]
    },
    {
     "name": "stderr",
     "output_type": "stream",
     "text": [
      "DEBUG:urllib3.connectionpool:Starting new HTTPS connection (1): admin.ezsend.io:443\n",
      "DEBUG:urllib3.connectionpool:https://admin.ezsend.io:443 \"GET /admin/api/v1/smsflowreport?offset=0&limit=-1&sort_column=count_deliver&sort_order=descending&start=2024-07-05&end=2024-07-07 HTTP/11\" 200 510066\n"
     ]
    },
    {
     "name": "stdout",
     "output_type": "stream",
     "text": [
      "Data saved to SMS_SC_SS_Flows.csv\n",
      "Data saved to SMS_SC_SS_Flows.csv\n"
     ]
    }
   ],
   "source": [
    "# Authenticate\n",
    "auth_token = authenticate(username, password)\n",
    "\n",
    "if auth_token:\n",
    "    # Generate endpoints with appropriate parameters\n",
    "    endpoints = [\n",
    "        (\"SMS_SC_SS_Report\", generate_endpoint(\"sms\", start_date, end_date)),  # SMS Report\n",
    "        (\"SMS_SC_SS_Segments\", generate_endpoint(\"segment\")),  # Segments\n",
    "        (\"SMS_SC_SS_Offers\", generate_endpoint(\"offer\")),  # Offer List\n",
    "        (\"jobs\", generate_endpoint(\"smsjob\", start_date, end_date)),  # Jobs\n",
    "        (\"creativestats\", generate_endpoint(\"smsreport\", start_date, end_date)),  # SMS CreativeStats / SMS Offer Report \n",
    "        (\"apikeyreport\", generate_endpoint(\"apikey\")),  # Apikey Report\n",
    "        (\"SMS_SC_SS_Flows\", generate_endpoint(\"smsflowreport\", start_date, end_date))  # SMS Flow Report\n",
    "    ]\n",
    "\n",
    "# Fetch data from endpoints and save to CSV files\n",
    "for endpoint_name, endpoint in endpoints:\n",
    "    if (endpoint_name == 'SMS_SC_SS_Report') & (start_date != end_date):\n",
    "        daylist = pd.date_range(start_date, end_date, freq='D').strftime('%Y-%m-%d')\n",
    "        for i in daylist:\n",
    "            start_date_sms_report = i\n",
    "            end_date_sms_report = i\n",
    "            endpoints = [ (\"SMS_SC_SS_Report\", generate_endpoint(\"sms\", start_date_sms_report, end_date_sms_report))]  # SMS Flow Report\n",
    "            print(endpoints)\n",
    "            data_dict = fetch_data(endpoints[0][1], auth_token)\n",
    "            if data_dict and 'data' in data_dict:\n",
    "                data = data_dict['data']\n",
    "                end_date_format = datetime.strptime(end_date_sms_report, \"%Y-%m-%d\").strftime('%Y%m%d')\n",
    "                filename = f\"{endpoint_name}{end_date_format}.csv\"\n",
    "                save_to_csv(data, filename)\n",
    "                print(f\"Data saved to {filename}\")\n",
    "                sleep(5)\n",
    "    \n",
    "    else: \n",
    "        data_dict = fetch_data(endpoint, auth_token)\n",
    "        if data_dict and 'data' in data_dict:\n",
    "            data = data_dict['data']\n",
    "                \n",
    "            #filename = f\"{endpoint_name}_{start_date}_{end_date}.csv\"\n",
    "            \n",
    "            if endpoint_name == 'SMS_SC_SS_Report':\n",
    "                end_date_format = datetime.strptime(end_date, \"%Y-%m-%d\").strftime('%Y%m%d')\n",
    "                filename = f\"{endpoint_name}{end_date_format}.csv\"\n",
    "            elif endpoint_name == 'SMS_SC_SS_Segments':\n",
    "                end_date_format = datetime.strptime(end_date, \"%Y-%m-%d\").strftime('%Y%m%d')\n",
    "                filename = f\"{endpoint_name}{end_date_format}.csv\"\n",
    "            elif endpoint_name == 'apikeyreport':\n",
    "                #end_date_format = datetime.strptime(end_date, '%Y-%m-%d')\n",
    "                filename = f\"{endpoint_name}{end_date}.csv\"\n",
    "            else:\n",
    "                filename = f\"{endpoint_name}.csv\"\n",
    "            \n",
    "            save_to_csv(data, filename)\n",
    "            print(f\"Data saved to {filename}\")\n",
    "            sleep(5)\n",
    "        else:\n",
    "            print(f\"Failed to fetch data for {endpoint_name}\") "
   ]
  },
  {
   "cell_type": "code",
   "execution_count": 7,
   "metadata": {},
   "outputs": [
    {
     "name": "stdout",
     "output_type": "stream",
     "text": [
      "Directory SMS_Data_Files_07.07 created\n"
     ]
    }
   ],
   "source": [
    "# Save files to a folder\n",
    "\n",
    "new_dir = f'SMS_Data_Files_{end_date[5:7]}.{end_date[8:10]}' # Specify the path for the new directory\n",
    "os.mkdir(new_dir)\n",
    "print(f\"Directory {new_dir} created\")\n",
    "\n",
    "# Enter current directory path\n",
    "source_dir = '/Users/nathanohashi/Documents/VSCode/automated_daily_download_process'\n",
    "\n",
    "all_csv = [file for file in os.listdir(source_dir) if file.endswith('.csv')]\n",
    "\n",
    "for file in all_csv:\n",
    "    src_path = os.path.join(source_dir, file)\n",
    "    dst_path = os.path.join(new_dir, file)\n",
    "    shutil.move(src_path, dst_path)"
   ]
  }
 ],
 "metadata": {
  "kernelspec": {
   "display_name": "Python 3",
   "language": "python",
   "name": "python3"
  },
  "language_info": {
   "codemirror_mode": {
    "name": "ipython",
    "version": 3
   },
   "file_extension": ".py",
   "mimetype": "text/x-python",
   "name": "python",
   "nbconvert_exporter": "python",
   "pygments_lexer": "ipython3",
   "version": "3.9.6"
  }
 },
 "nbformat": 4,
 "nbformat_minor": 2
}
