{
 "cells": [
  {
   "cell_type": "markdown",
   "metadata": {},
   "source": [
    "# 1. Import Package "
   ]
  },
  {
   "cell_type": "code",
   "execution_count": 6,
   "metadata": {},
   "outputs": [],
   "source": [
    "from Monday_upload import *"
   ]
  },
  {
   "cell_type": "markdown",
   "metadata": {},
   "source": [
    "# 2. Upload the file to Monday.com"
   ]
  },
  {
   "cell_type": "markdown",
   "metadata": {},
   "source": [
    "## 2.1 SMS Daily AR Offer Alert Report"
   ]
  },
  {
   "cell_type": "code",
   "execution_count": 7,
   "metadata": {},
   "outputs": [
    {
     "name": "stdout",
     "output_type": "stream",
     "text": [
      "Clear response: {\"data\":{\"change_column_value\":{\"id\":\"7044661597\"}},\"account_id\":6100183}\n",
      "{\"data\":{\"add_file_to_column\":{\"id\":\"1573216790\"}},\"account_id\":6100183}\n"
     ]
    }
   ],
   "source": [
    "#  \"SMS Daily AR Offer Alert Report\"\n",
    "filepath = '/Users/liliguo/Desktop/Report Folder/AR Offer Alert - 07_19_2024.xlsx'\n",
    "filename = 'AR Offer Alert - 07_19_2024.xlsx'\n",
    "item_id  = reports_dict[\"SMS Daily AR Offer Alert Report\"]\n",
    "upload_file(filepath,filename, item_id)\n",
    "email_body = \"The AR Offer Alert report has been uploaded to Monday.com\"\n",
    "add_update_to_item(item_id, email_body)"
   ]
  },
  {
   "cell_type": "markdown",
   "metadata": {},
   "source": [
    "## 2.2 SMS Redrop/Recommendations Report"
   ]
  },
  {
   "cell_type": "code",
   "execution_count": 8,
   "metadata": {},
   "outputs": [
    {
     "name": "stdout",
     "output_type": "stream",
     "text": [
      "Clear response: {\"data\":{\"change_column_value\":{\"id\":\"7044671905\"}},\"account_id\":6100183}\n",
      "{\"data\":{\"add_file_to_column\":{\"id\":\"1573217291\"}},\"account_id\":6100183}\n"
     ]
    }
   ],
   "source": [
    "# \"SMS Redrop/Recommendations Report\"\n",
    "filepath = '/Users/liliguo/Desktop/Report Folder/Redrop - 07_19_2024.xlsx'\n",
    "filename = 'Redrop - 07_19_2024.xlsx'\n",
    "item_id  = reports_dict[\"SMS Redrop/Recommendations Report\"]\n",
    "upload_file(filepath,filename, item_id)"
   ]
  },
  {
   "cell_type": "markdown",
   "metadata": {},
   "source": [
    "## 2.3 SMS Upcoming Schedule"
   ]
  },
  {
   "cell_type": "code",
   "execution_count": 9,
   "metadata": {},
   "outputs": [
    {
     "name": "stdout",
     "output_type": "stream",
     "text": [
      "Clear response: {\"data\":{\"change_column_value\":{\"id\":\"7044687692\"}},\"account_id\":6100183}\n",
      "{\"data\":{\"add_file_to_column\":{\"id\":\"1573217777\"}},\"account_id\":6100183}\n",
      "{\"data\":{\"add_file_to_column\":{\"id\":\"1573217797\"}},\"account_id\":6100183}\n"
     ]
    }
   ],
   "source": [
    "# \"SMS Upcoming Schedule\"\n",
    "filepath = '/Users/liliguo/Desktop/Report Folder/SMS_upcoming_schedule.xlsx'\n",
    "filename = 'SMS_upcoming_schedule.xlsx'\n",
    "item_id  = reports_dict[\"SMS Upcoming Schedule\"]\n",
    "clean_file(item_id)\n",
    "time.sleep(30)\n",
    "add_file_monday(filepath, filename, item_id)\n",
    "filepath = '/Users/liliguo/Desktop/Report Folder/AR_schedule.xlsx'\n",
    "filename = 'AR_schedule.xlsx'\n",
    "add_file_monday(filepath, filename, item_id)"
   ]
  },
  {
   "cell_type": "markdown",
   "metadata": {},
   "source": [
    "## 2.4 Swap Report"
   ]
  },
  {
   "cell_type": "code",
   "execution_count": 10,
   "metadata": {},
   "outputs": [
    {
     "name": "stdout",
     "output_type": "stream",
     "text": [
      "Clear response: {\"data\":{\"change_column_value\":{\"id\":\"7044689311\"}},\"account_id\":6100183}\n",
      "{\"data\":{\"add_file_to_column\":{\"id\":\"1573218258\"}},\"account_id\":6100183}\n"
     ]
    }
   ],
   "source": [
    "# \"Swap Report\"\n",
    "filepath = '/Users/liliguo/Desktop/Report Folder/swap_report.xlsx'\n",
    "filename = 'swap_report.xlsx'\n",
    "item_id  = reports_dict[\"Swap Report\"]\n",
    "upload_file(filepath,filename, item_id)\n",
    "email_body = \"Swap Report has been uploaded\"\n",
    "add_update_to_item(item_id, email_body)\n"
   ]
  },
  {
   "cell_type": "markdown",
   "metadata": {},
   "source": [
    "## 2.5 SMS Team Daily Alert Report"
   ]
  },
  {
   "cell_type": "code",
   "execution_count": 11,
   "metadata": {},
   "outputs": [
    {
     "name": "stdout",
     "output_type": "stream",
     "text": [
      "Clear response: {\"data\":{\"change_column_value\":{\"id\":\"7044804654\"}},\"account_id\":6100183}\n",
      "{\"data\":{\"add_file_to_column\":{\"id\":\"1573218738\"}},\"account_id\":6100183}\n"
     ]
    }
   ],
   "source": [
    "# \"SMS Team Daily Alert Report\"\n",
    "filepath = '/Users/liliguo/Desktop/Report Folder/Account Feedback - 07_19_2024.xlsx'\n",
    "filename = 'Account Feedback - 07_19_2024.xlsx'\n",
    "item_id  = reports_dict[\"SMS Team Daily Alert Report\"]\n",
    "upload_file(filepath,filename, item_id)\n",
    "email_body = \"The Account Feedback report has been uploaded to Monday.\"\n",
    "add_update_to_item(item_id, email_body)"
   ]
  },
  {
   "cell_type": "markdown",
   "metadata": {},
   "source": [
    "## 2.6 SMS Content Request Report"
   ]
  },
  {
   "cell_type": "code",
   "execution_count": 12,
   "metadata": {},
   "outputs": [
    {
     "name": "stdout",
     "output_type": "stream",
     "text": [
      "Clear response: {\"data\":{\"change_column_value\":{\"id\":\"6954763228\"}},\"account_id\":6100183}\n",
      "{\"data\":{\"add_file_to_column\":{\"id\":\"1573219174\"}},\"account_id\":6100183}\n"
     ]
    }
   ],
   "source": [
    "# \"SMS Content Request Report\"\n",
    "filepath = '/Users/liliguo/Desktop/Report Folder/Content_Request_Report_07_19_2024.xlsx'\n",
    "filename = 'Content_Request_Report_07_19_2024.xlsx'\n",
    "item_id  = reports_dict[\"SMS Content Request Report\"]\n",
    "upload_file(filepath,filename, item_id)\n",
    "email_body = \"Content Request Report has been uploaded\"\n",
    "add_update_to_item(item_id, email_body)"
   ]
  },
  {
   "cell_type": "markdown",
   "metadata": {},
   "source": [
    "## 2.7 SMS Jump Page Feedback Report"
   ]
  },
  {
   "cell_type": "code",
   "execution_count": 13,
   "metadata": {},
   "outputs": [
    {
     "name": "stdout",
     "output_type": "stream",
     "text": [
      "Clear response: {\"data\":{\"change_column_value\":{\"id\":\"6954763233\"}},\"account_id\":6100183}\n",
      "{\"data\":{\"add_file_to_column\":{\"id\":\"1573219577\"}},\"account_id\":6100183}\n"
     ]
    }
   ],
   "source": [
    "# \"SMS Jump Page Feedback Report\"\n",
    "filepath ='/Users/liliguo/Desktop/Report Folder/jump_page_feedback_reports.xlsx'\n",
    "filename = 'jump_page_feedback_reports.xlsx'\n",
    "item_id  = reports_dict[\"SMS Jump Page Feedback Report\"]\n",
    "upload_file(filepath,filename, item_id)\n",
    "email_body = \"Jump Page Feedback Report has been uploaded.\"\n",
    "add_update_to_item(item_id, email_body,'HTML')"
   ]
  },
  {
   "cell_type": "markdown",
   "metadata": {},
   "source": [
    "## 2.8 SMS Content Feedback Loop Report"
   ]
  },
  {
   "cell_type": "code",
   "execution_count": 14,
   "metadata": {},
   "outputs": [
    {
     "name": "stdout",
     "output_type": "stream",
     "text": [
      "Clear response: {\"data\":{\"change_column_value\":{\"id\":\"6954763241\"}},\"account_id\":6100183}\n",
      "{\"data\":{\"add_file_to_column\":{\"id\":\"1573220074\"}},\"account_id\":6100183}\n"
     ]
    }
   ],
   "source": [
    "# 2.8 SMS Content Feedback Loop Report\n",
    "filepath = '/Users/liliguo/Desktop/Report Folder/Content_Feedback_Loop_Report_07_19_2024.xlsx'\n",
    "filename = 'Content_Feedback_Loop_Report_07_19_2024.xlsx'\n",
    "item_id  = reports_dict[\"SMS Content Feedback Loop Report\"]\n",
    "upload_file(filepath,filename, item_id)\n"
   ]
  },
  {
   "cell_type": "markdown",
   "metadata": {},
   "source": [
    "## 2.9 SMS Team Offer Alert Report"
   ]
  },
  {
   "cell_type": "code",
   "execution_count": 15,
   "metadata": {},
   "outputs": [
    {
     "name": "stdout",
     "output_type": "stream",
     "text": [
      "Clear response: {\"data\":{\"change_column_value\":{\"id\":\"6954763249\"}},\"account_id\":6100183}\n",
      "{\"data\":{\"add_file_to_column\":{\"id\":\"1573220618\"}},\"account_id\":6100183}\n"
     ]
    }
   ],
   "source": [
    "# \"SMS Team Offer Alert Report\"\n",
    "filepath = '/Users/liliguo/Desktop/Report Folder/Offer Alert - 07_19_2024.xlsx'\n",
    "filename = 'Offer Alert - 07_19_2024.xlsx'\n",
    "item_id  = reports_dict[\"SMS Team Offer Alert Report\"]\n",
    "upload_file(filepath,filename, item_id)\n",
    "email_body = \"The Offer Alert Report has been uploaded to Monday\"\n",
    "add_update_to_item(item_id, email_body,'HTML')"
   ]
  },
  {
   "cell_type": "markdown",
   "metadata": {},
   "source": [
    "## 2.10 SMS Budget Report"
   ]
  },
  {
   "cell_type": "code",
   "execution_count": 19,
   "metadata": {},
   "outputs": [
    {
     "name": "stdout",
     "output_type": "stream",
     "text": [
      "Clear response: {\"data\":{\"change_column_value\":{\"id\":\"6954763244\"}},\"account_id\":6100183}\n",
      "{\"data\":{\"add_file_to_column\":{\"id\":\"1573236741\"}},\"account_id\":6100183}\n",
      "{\"data\":{\"create_update\":{\"id\":\"3313567816\"}},\"account_id\":6100183}\n"
     ]
    }
   ],
   "source": [
    "# \"SMS Budget Report\"\n",
    "filepath = '/Users/liliguo/Desktop/Report Folder/Budget_Report-07-19-2024.xlsx'\n",
    "filename = 'Budget_Report-07-19-2024.xlsx'\n",
    "item_id  = reports_dict[\"SMS Budget Report\"]\n",
    "upload_file(filepath,filename, item_id)\n",
    "email_body = \"Budget Report has been uploaded successfully\"\n",
    "add_update_to_item(item_id, email_body)"
   ]
  }
 ],
 "metadata": {
  "kernelspec": {
   "display_name": "Python 3",
   "language": "python",
   "name": "python3"
  },
  "language_info": {
   "codemirror_mode": {
    "name": "ipython",
    "version": 3
   },
   "file_extension": ".py",
   "mimetype": "text/x-python",
   "name": "python",
   "nbconvert_exporter": "python",
   "pygments_lexer": "ipython3",
   "version": "3.8.17"
  }
 },
 "nbformat": 4,
 "nbformat_minor": 2
}
